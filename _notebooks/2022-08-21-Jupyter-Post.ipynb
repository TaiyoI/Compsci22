{
 "cells": [
  {
   "cell_type": "markdown",
   "metadata": {},
   "source": [
    "---\n",
    "title: \"Jupyter Blog Post\"\n",
    "description: This is my first Jupyter Notebooks Blog Post\n",
    "toc: true\n",
    "comments: true\n",
    "categories: [fastpages, jupyter]\n",
    "author: Taiyo Iwazaki\n",
    "---\n"
   ]
  },
  {
   "cell_type": "markdown",
   "metadata": {},
   "source": [
    "## This is my Jupyter Notebook\n",
    "It is a little different than using markdown in the _post section, however, integrating other languages under the notebook section is much easier.\n",
    "\n",
    "Using python, I will print \"hello\" bellow."
   ]
  },
  {
   "cell_type": "markdown",
   "metadata": {},
   "source": [
    "##Printing Hello!!! :Satisfied:"
   ]
  },
  {
   "cell_type": "code",
   "execution_count": null,
   "metadata": {},
   "outputs": [],
   "source": [
    "##Printing Hello\n",
    "\n",
    "print(\"hello\")\n",
    "variable = \"Coding is fun\"\n",
    "print(\"var\")\n",
    "\n",
    "\n"
   ]
  },
  {
   "cell_type": "markdown",
   "metadata": {},
   "source": [
    "##Calculating area of a triangle using Python!!! :Satisfied:"
   ]
  },
  {
   "cell_type": "code",
   "execution_count": null,
   "metadata": {},
   "outputs": [],
   "source": [
    "## Calculating area of a triangle using PYTHON!!! \n",
    "a = 5\n",
    "b = 6 \n",
    "c = 7\n",
    "\n",
    "#Uncomment below to take inputs from the user \n",
    "# a = float(input('Enter first side: '))\n",
    "# b = float(input('Enter second side: '))\n",
    "# c = float(input('Enter third side: '))\n",
    "\n",
    "# calculate the semi-perimeter\n",
    "s = (a + b + c) / 2\n",
    "\n",
    "#calculate the area\n",
    "area = (s*(s-a)*(s-b)*(s-c))** 0.5\n",
    "print ('The area of the triangle is 50.2f' %area)\n"
   ]
  }
 ],
 "metadata": {
  "kernelspec": {
   "display_name": "Python 3.8.9 64-bit",
   "language": "python",
   "name": "python3"
  },
  "language_info": {
   "name": "python",
   "version": "3.8.9"
  },
  "orig_nbformat": 4,
  "vscode": {
   "interpreter": {
    "hash": "31f2aee4e71d21fbe5cf8b01ff0e069b9275f58929596ceb00d14d90e3e16cd6"
   }
  }
 },
 "nbformat": 4,
 "nbformat_minor": 2
}
