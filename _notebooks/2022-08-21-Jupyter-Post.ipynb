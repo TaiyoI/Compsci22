{
 "cells": [
  {
   "cell_type": "markdown",
   "metadata": {},
   "source": [
    "\n",
    "# Taiyo's Jupyter Post\n",
    "- toc: true\n",
    "- branch: master\n",
    "- badges: true\n",
    "- comments: true\n",
    "- author: Taiyo Iwazaki\n",
    "- categories: [fastpages, jupyter]\n"
   ]
  },
  {
   "cell_type": "markdown",
   "metadata": {},
   "source": [
    "---\n",
    "\"My First Jupyter Notebook\"\n",
    "---"
   ]
  },
  {
   "cell_type": "markdown",
   "metadata": {},
   "source": [
    "\"JUPYTER!!\""
   ]
  },
  {
   "cell_type": "markdown",
   "metadata": {},
   "source": [
    "## This is my Jupyter Notebook\n",
    "It is a little different than using markdown in the _post section, however, integrating other languages under the notebook section is much easier.\n",
    "\n",
    "Using python, I will print \"hello\" bellow."
   ]
  },
  {
   "cell_type": "markdown",
   "metadata": {},
   "source": [
    "##Printing Hello!!! "
   ]
  },
  {
   "cell_type": "code",
   "execution_count": 5,
   "metadata": {},
   "outputs": [
    {
     "name": "stdout",
     "output_type": "stream",
     "text": [
      "hello\n",
      "Coding is fun\n"
     ]
    }
   ],
   "source": [
    "##Printing Hello\n",
    "\n",
    "print(\"hello\")\n",
    "variable = \"Coding is fun\"\n",
    "print(variable)\n",
    "\n",
    "\n"
   ]
  },
  {
   "cell_type": "markdown",
   "metadata": {},
   "source": [
    "##Calculating area of a triangle using Python!!! "
   ]
  },
  {
   "cell_type": "code",
   "execution_count": 6,
   "metadata": {},
   "outputs": [
    {
     "name": "stdout",
     "output_type": "stream",
     "text": [
      "The area of the triangle is 6.00\n"
     ]
    }
   ],
   "source": [
    "# Python Program to find the area of triangle\n",
    "\n",
    "a = int(input(\"A Value\"))\n",
    "b = int(input(\"B Value\"))\n",
    "c = int(input(\"C Value\"))\n",
    "\n",
    "# Uncomment below to take inputs from the user\n",
    "# a = float(input('Enter first side: '))\n",
    "# b = float(input('Enter second side: '))\n",
    "# c = float(input('Enter third side: '))\n",
    "\n",
    "# calculate the semi-perimeter\n",
    "s = (a + b + c) / 2\n",
    "\n",
    "# calculate the area\n",
    "area = (s*(s-a)*(s-b)*(s-c)) ** 0.5\n",
    "print('The area of the triangle is %0.2f' %area)"
   ]
  }
 ],
 "metadata": {
  "kernelspec": {
   "display_name": "Python 3.9.12 ('base')",
   "language": "python",
   "name": "python3"
  },
  "language_info": {
   "codemirror_mode": {
    "name": "ipython",
    "version": 3
   },
   "file_extension": ".py",
   "mimetype": "text/x-python",
   "name": "python",
   "nbconvert_exporter": "python",
   "pygments_lexer": "ipython3",
   "version": "3.9.12"
  },
  "orig_nbformat": 4,
  "vscode": {
   "interpreter": {
    "hash": "a7fbbb54f4c181edc972ed0306a01439bd91c43236a2d6fefc317f72e31b9e0c"
   }
  }
 },
 "nbformat": 4,
 "nbformat_minor": 2
}
