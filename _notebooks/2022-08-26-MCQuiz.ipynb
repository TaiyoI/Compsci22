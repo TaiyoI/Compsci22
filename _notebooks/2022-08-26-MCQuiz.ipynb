{
 "cells": [
  {
   "cell_type": "markdown",
   "metadata": {},
   "source": [
    "\n",
    "# Taiyo's Jupyter MCQuiz\n",
    "- toc: false\n",
    "- branch: master\n",
    "- badges: true\n",
    "- comments: true\n",
    "- author: Taiyo Iwazaki\n",
    "- categories: [Week 2]\n"
   ]
  },
  {
   "cell_type": "code",
   "execution_count": 4,
   "metadata": {},
   "outputs": [
    {
     "name": "stdout",
     "output_type": "stream",
     "text": [
      "correct!\n",
      "score:  1\n",
      "\n",
      "\n",
      "correct!\n",
      "score:  2\n",
      "\n",
      "\n",
      "correct!\n",
      "score:  3\n",
      "\n",
      "\n",
      "Your total score is: 3 -GOOD JOB!\n"
     ]
    }
   ],
   "source": [
    "score = 0\n",
    "\n",
    "# Question 1\n",
    "answer1 = input(\"What does Def do in a function? \\na. nothing \\nb. defines a function \\nc. sudo code \\nd. changes directory \\nAnswer: \")\n",
    "if answer1 == \"b\" or answer1 == \"defines a function\": \n",
    "    score += 1\n",
    "    print (\"correct!\")\n",
    "    print (\"score: \", score)\n",
    "    print (\"\\n\")\n",
    "else: \n",
    "    print(\"Incorrect! The answer is: defines a function.\")\n",
    "    print(\"score: \", score)\n",
    "    print(\"\\n\")\n",
    "\n",
    "# Question 2\n",
    "answer2 = input(\"What is Python3 \\na. A snake \\nb. A programming language \\nc. A video game \\nd. Javascript \\nAnswer: \")\n",
    "if answer2 == \"b\" or answer1 == \"A programming language\": \n",
    "    score += 1\n",
    "    print (\"correct!\")\n",
    "    print (\"score: \", score)\n",
    "    print (\"\\n\")\n",
    "else: \n",
    "    print(\"Incorrect! The answer is: A programming language\")\n",
    "    print(\"score: \", score)\n",
    "    print(\"\\n\")\n",
    "\n",
    "# Question 3\n",
    "answer3 = input(\"What is a sequence? \\na. Two or more lines of code \\nb. A line of code \\nc. multiple words \\nd. I dont know \\nAnswer: \")\n",
    "if answer3 == \"a\" or answer1 == \"Two or more lines of code\": \n",
    "    score += 1\n",
    "    print (\"correct!\")\n",
    "    print (\"score: \", score)\n",
    "    print (\"\\n\")\n",
    "else: \n",
    "    print(\"Incorrect! The answer is: Two or more lines of code\")\n",
    "    print(\"score: \", score)\n",
    "    print(\"\\n\")\n",
    "\n",
    "#Final Message\n",
    "if score <= 1: \n",
    "    print (\"Your total score is:\", score, \"- Get Better\")\n",
    "elif score == 2:\n",
    "    print (\"Your total score is:\", score, \"- You Did Alright\")\n",
    "else:\n",
    "    print (\"Your total score is:\", score, \"-GOOD JOB!\")\n"
   ]
  }
 ],
 "metadata": {
  "kernelspec": {
   "display_name": "Python 3.9.12 ('base')",
   "language": "python",
   "name": "python3"
  },
  "language_info": {
   "codemirror_mode": {
    "name": "ipython",
    "version": 3
   },
   "file_extension": ".py",
   "mimetype": "text/x-python",
   "name": "python",
   "nbconvert_exporter": "python",
   "pygments_lexer": "ipython3",
   "version": "3.9.12"
  },
  "orig_nbformat": 4,
  "vscode": {
   "interpreter": {
    "hash": "a7fbbb54f4c181edc972ed0306a01439bd91c43236a2d6fefc317f72e31b9e0c"
   }
  }
 },
 "nbformat": 4,
 "nbformat_minor": 2
}
