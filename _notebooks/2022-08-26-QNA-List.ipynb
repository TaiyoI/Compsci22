{
 "cells": [
  {
   "cell_type": "markdown",
   "metadata": {},
   "source": [
    "\n",
    "# Taiyo's Jupyter QNAQuiz\n",
    "- toc: false\n",
    "- branch: master\n",
    "- badges: true\n",
    "- comments: true\n",
    "- author: Taiyo Iwazaki\n",
    "- categories: [Week 2]\n"
   ]
  },
  {
   "cell_type": "code",
   "execution_count": 47,
   "metadata": {},
   "outputs": [
    {
     "name": "stdout",
     "output_type": "stream",
     "text": [
      "Welcome to my true or false quiz!\n",
      "['1. True or False, def is a key word in Python that defines a function', 'True', '2. True or False, In Python anatomy of you will NOT be importing libraries and functions?', 'False', '3. True or False, Hello world is a string literal?', 'True', '4. True or False, Output in Jupyter Notebook is below the code cell', 'True', '5. True or False, Input and Output in Jupyter Notebook Input is NOT in line with Output?', 'True', '6. True or False, an if expression is not evaluated for true or false', 'False', '7. True or False, return command in function does not return msg input by user', 'False', '8. True or False, false takes branch of code directly under else command', 'True', '9. True or False, correct += 1 is NOT the way to add one to the score', 'False', '10. True or False, is msg a parameter to the print function?', 'True']\n",
      "Sorry, that is incorrect!\n",
      "['1. True or False, def is a key word in Python that defines a function', 'True', '2. True or False, In Python anatomy of you will NOT be importing libraries and functions?', 'False', '3. True or False, Hello world is a string literal?', 'True', '4. True or False, Output in Jupyter Notebook is below the code cell', 'True', '5. True or False, Input and Output in Jupyter Notebook Input is NOT in line with Output?', 'True', '6. True or False, an if expression is not evaluated for true or false', 'False', '7. True or False, return command in function does not return msg input by user', 'False', '8. True or False, false takes branch of code directly under else command', 'True', '9. True or False, correct += 1 is NOT the way to add one to the score', 'False', '10. True or False, is msg a parameter to the print function?', 'True']\n",
      "Sorry, that is incorrect!\n",
      "['1. True or False, def is a key word in Python that defines a function', 'True', '2. True or False, In Python anatomy of you will NOT be importing libraries and functions?', 'False', '3. True or False, Hello world is a string literal?', 'True', '4. True or False, Output in Jupyter Notebook is below the code cell', 'True', '5. True or False, Input and Output in Jupyter Notebook Input is NOT in line with Output?', 'True', '6. True or False, an if expression is not evaluated for true or false', 'False', '7. True or False, return command in function does not return msg input by user', 'False', '8. True or False, false takes branch of code directly under else command', 'True', '9. True or False, correct += 1 is NOT the way to add one to the score', 'False', '10. True or False, is msg a parameter to the print function?', 'True']\n",
      "Sorry, that is incorrect!\n",
      "['1. True or False, def is a key word in Python that defines a function', 'True', '2. True or False, In Python anatomy of you will NOT be importing libraries and functions?', 'False', '3. True or False, Hello world is a string literal?', 'True', '4. True or False, Output in Jupyter Notebook is below the code cell', 'True', '5. True or False, Input and Output in Jupyter Notebook Input is NOT in line with Output?', 'True', '6. True or False, an if expression is not evaluated for true or false', 'False', '7. True or False, return command in function does not return msg input by user', 'False', '8. True or False, false takes branch of code directly under else command', 'True', '9. True or False, correct += 1 is NOT the way to add one to the score', 'False', '10. True or False, is msg a parameter to the print function?', 'True']\n",
      "Sorry, that is incorrect!\n",
      "['1. True or False, def is a key word in Python that defines a function', 'True', '2. True or False, In Python anatomy of you will NOT be importing libraries and functions?', 'False', '3. True or False, Hello world is a string literal?', 'True', '4. True or False, Output in Jupyter Notebook is below the code cell', 'True', '5. True or False, Input and Output in Jupyter Notebook Input is NOT in line with Output?', 'True', '6. True or False, an if expression is not evaluated for true or false', 'False', '7. True or False, return command in function does not return msg input by user', 'False', '8. True or False, false takes branch of code directly under else command', 'True', '9. True or False, correct += 1 is NOT the way to add one to the score', 'False', '10. True or False, is msg a parameter to the print function?', 'True']\n",
      "Sorry, that is incorrect!\n",
      "['1. True or False, def is a key word in Python that defines a function', 'True', '2. True or False, In Python anatomy of you will NOT be importing libraries and functions?', 'False', '3. True or False, Hello world is a string literal?', 'True', '4. True or False, Output in Jupyter Notebook is below the code cell', 'True', '5. True or False, Input and Output in Jupyter Notebook Input is NOT in line with Output?', 'True', '6. True or False, an if expression is not evaluated for true or false', 'False', '7. True or False, return command in function does not return msg input by user', 'False', '8. True or False, false takes branch of code directly under else command', 'True', '9. True or False, correct += 1 is NOT the way to add one to the score', 'False', '10. True or False, is msg a parameter to the print function?', 'True']\n",
      "Sorry, that is incorrect!\n",
      "['1. True or False, def is a key word in Python that defines a function', 'True', '2. True or False, In Python anatomy of you will NOT be importing libraries and functions?', 'False', '3. True or False, Hello world is a string literal?', 'True', '4. True or False, Output in Jupyter Notebook is below the code cell', 'True', '5. True or False, Input and Output in Jupyter Notebook Input is NOT in line with Output?', 'True', '6. True or False, an if expression is not evaluated for true or false', 'False', '7. True or False, return command in function does not return msg input by user', 'False', '8. True or False, false takes branch of code directly under else command', 'True', '9. True or False, correct += 1 is NOT the way to add one to the score', 'False', '10. True or False, is msg a parameter to the print function?', 'True']\n",
      "Sorry, that is incorrect!\n",
      "['1. True or False, def is a key word in Python that defines a function', 'True', '2. True or False, In Python anatomy of you will NOT be importing libraries and functions?', 'False', '3. True or False, Hello world is a string literal?', 'True', '4. True or False, Output in Jupyter Notebook is below the code cell', 'True', '5. True or False, Input and Output in Jupyter Notebook Input is NOT in line with Output?', 'True', '6. True or False, an if expression is not evaluated for true or false', 'False', '7. True or False, return command in function does not return msg input by user', 'False', '8. True or False, false takes branch of code directly under else command', 'True', '9. True or False, correct += 1 is NOT the way to add one to the score', 'False', '10. True or False, is msg a parameter to the print function?', 'True']\n",
      "Sorry, that is incorrect!\n",
      "['1. True or False, def is a key word in Python that defines a function', 'True', '2. True or False, In Python anatomy of you will NOT be importing libraries and functions?', 'False', '3. True or False, Hello world is a string literal?', 'True', '4. True or False, Output in Jupyter Notebook is below the code cell', 'True', '5. True or False, Input and Output in Jupyter Notebook Input is NOT in line with Output?', 'True', '6. True or False, an if expression is not evaluated for true or false', 'False', '7. True or False, return command in function does not return msg input by user', 'False', '8. True or False, false takes branch of code directly under else command', 'True', '9. True or False, correct += 1 is NOT the way to add one to the score', 'False', '10. True or False, is msg a parameter to the print function?', 'True']\n",
      "Sorry, that is incorrect!\n",
      "['1. True or False, def is a key word in Python that defines a function', 'True', '2. True or False, In Python anatomy of you will NOT be importing libraries and functions?', 'False', '3. True or False, Hello world is a string literal?', 'True', '4. True or False, Output in Jupyter Notebook is below the code cell', 'True', '5. True or False, Input and Output in Jupyter Notebook Input is NOT in line with Output?', 'True', '6. True or False, an if expression is not evaluated for true or false', 'False', '7. True or False, return command in function does not return msg input by user', 'False', '8. True or False, false takes branch of code directly under else command', 'True', '9. True or False, correct += 1 is NOT the way to add one to the score', 'False', '10. True or False, is msg a parameter to the print function?', 'True']\n",
      "Sorry, that is incorrect!\n",
      "Good Job, You scored -10 points out of ten\n"
     ]
    }
   ],
   "source": [
    "#list of all of my questions and answers that will be inputted into my quiz\n",
    "QandA = [\n",
    "    \"1. True or False, def is a key word in Python that defines a function\", \"True\",\n",
    "    \"2. True or False, In Python anatomy of you will NOT be importing libraries and functions?\", \"False\",\n",
    "    \"3. True or False, Hello world is a string literal?\", \"True\",\n",
    "    \"4. True or False, Output in Jupyter Notebook is below the code cell\", \"True\",\n",
    "    \"5. True or False, Input and Output in Jupyter Notebook Input is NOT in line with Output?\", \"True\",\n",
    "    \"6. True or False, an if expression is not evaluated for true or false\", \"False\",   \n",
    "    \"7. True or False, return command in function does not return msg input by user\",  \"False\",\n",
    "    \"8. True or False, false takes branch of code directly under else command\", \"True\",\n",
    "    \"9. True or False, correct += 1 is NOT the way to add one to the score\", \"False\",\n",
    "    \"10. True or False, is msg a parameter to the print function?\", \"True\",\n",
    "    ]\n",
    "\n",
    "#total points and using new quiz var\n",
    "points = 0\n",
    "current = 0\n",
    "quiz = 1\n",
    "print (\"Welcome to my true or false quiz!\")\n",
    "\n",
    "#Using while lets me loop function\n",
    "\n",
    "while quiz < 11:\n",
    "    print()\n",
    "    question = input(QandA[current])\n",
    "    if question == QandA[current+1]:\n",
    "        print (\"That's correct!\")\n",
    "        points = points +1\n",
    "        current = current +2\n",
    "    else: \n",
    "        print (\"Sorry, that is incorrect!\")\n",
    "        points = points -1\n",
    "        current = current +2\n",
    "    quiz = quiz +1\n",
    "\n",
    "#Final Message\n",
    "print(\"Good Job, You scored\", points, \"points out of ten\")\n",
    "\n",
    "\n",
    "\n"
   ]
  }
 ],
 "metadata": {
  "kernelspec": {
   "display_name": "Python 3.10.6 64-bit",
   "language": "python",
   "name": "python3"
  },
  "language_info": {
   "codemirror_mode": {
    "name": "ipython",
    "version": 3
   },
   "file_extension": ".py",
   "mimetype": "text/x-python",
   "name": "python",
   "nbconvert_exporter": "python",
   "pygments_lexer": "ipython3",
   "version": "3.10.6"
  },
  "orig_nbformat": 4,
  "vscode": {
   "interpreter": {
    "hash": "b0fa6594d8f4cbf19f97940f81e996739fb7646882a419484c72d19e05852a7e"
   }
  }
 },
 "nbformat": 4,
 "nbformat_minor": 2
}
