{
 "cells": [
  {
   "cell_type": "code",
   "execution_count": 8,
   "metadata": {},
   "outputs": [
    {
     "name": "stdout",
     "output_type": "stream",
     "text": [
      "Welcome to my quiz!\n",
      "Sorry, that is incorrect!\n",
      "Sorry, that is incorrect!\n",
      "Sorry, that is incorrect!\n",
      "Sorry, that is incorrect!\n",
      "Sorry, that is incorrect!\n",
      "Sorry, that is incorrect!\n",
      "Sorry, that is incorrect!\n",
      "Sorry, that is incorrect!\n",
      "Sorry, that is incorrect!\n",
      "Sorry, that is incorrect!\n",
      "You got -20/20 correct\n"
     ]
    }
   ],
   "source": [
    "#list of all of my questions and answers that will be inputted into my quiz\n",
    "QandA = [\n",
    "    \"1. Question?\", \"Answer\",\n",
    "    \"2. Question?\", \"Answer\",\n",
    "    \"3. Question?\", \"Answer\",\n",
    "    \"4. Question?\", \"Answer\",\n",
    "    \"5. Question?\", \"Answer\",\n",
    "    \"6. Question?\", \"Answer\",   \n",
    "    \"7. Question?\", \"Answer\",\n",
    "    \"8. Question?\", \"Answer\",\n",
    "    \"9. Question?\", \"Answer\",\n",
    "    \"10. Question?\", \"Answer\",\n",
    "    ]\n",
    "\n",
    "#total points and using new quiz var\n",
    "points = 0\n",
    "current = 0\n",
    "quiz = 1\n",
    "\n",
    "print (\"Welcome to my quiz!\")\n",
    "\n",
    "#Using while lets me loop function\n",
    "while quiz < 11:\n",
    "    question = input (QandA[current])\n",
    "    if question == QandA[current+1]:\n",
    "        print (\"That's correct!\")\n",
    "        points = points +1\n",
    "        current = current +2\n",
    "    else: \n",
    "        print (\"Sorry, that is incorrect!\")\n",
    "        points = points -1\n",
    "        current = current -2\n",
    "        quiz = quiz +1\n",
    "\n",
    "#Final Message\n",
    "print (\"You got \" + str(current) + \"/\" + str(len(QandA)) + \" correct\")\n",
    "\n",
    "\n",
    "\n"
   ]
  }
 ],
 "metadata": {
  "kernelspec": {
   "display_name": "Python 3.10.6 64-bit",
   "language": "python",
   "name": "python3"
  },
  "language_info": {
   "codemirror_mode": {
    "name": "ipython",
    "version": 3
   },
   "file_extension": ".py",
   "mimetype": "text/x-python",
   "name": "python",
   "nbconvert_exporter": "python",
   "pygments_lexer": "ipython3",
   "version": "3.10.6"
  },
  "orig_nbformat": 4,
  "vscode": {
   "interpreter": {
    "hash": "b0fa6594d8f4cbf19f97940f81e996739fb7646882a419484c72d19e05852a7e"
   }
  }
 },
 "nbformat": 4,
 "nbformat_minor": 2
}
