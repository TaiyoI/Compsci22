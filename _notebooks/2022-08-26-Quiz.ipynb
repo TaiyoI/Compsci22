{
 "cells": [
  {
   "cell_type": "code",
   "execution_count": 3,
   "metadata": {},
   "outputs": [
    {
     "name": "stdout",
     "output_type": "stream",
     "text": [
      "correct!\n",
      "score:  1\n",
      "\n",
      "\n",
      "correct!\n",
      "score:  2\n",
      "\n",
      "\n",
      "Your total score is: 2 - You Did Alright\n"
     ]
    }
   ],
   "source": [
    "score = 0\n",
    "\n",
    "# Question 1\n",
    "answer1 = input(\"What is our class number? \\na. a101 \\nb. d101 \\nc. a103 \\nd. e201 \\nAnswer: \")\n",
    "if answer1 == \"a\" or answer1 == \"a101\": \n",
    "    score += 1\n",
    "    print (\"correct!\")\n",
    "    print (\"score: \", score)\n",
    "    print (\"\\n\")\n",
    "else: \n",
    "    print(\"Incorrect! The answer is: a101.\")\n",
    "    print(\"score: \", score)\n",
    "    print(\"\\n\")\n",
    "\n",
    "# Question 2\n",
    "answer2 = input(\"What is Python3 \\na. A snake \\nb. A programming language \\nc. A video game \\nd. Javascript \\nAnswer: \")\n",
    "if answer2 == \"b\" or answer1 == \"A programming language\": \n",
    "    score += 1\n",
    "    print (\"correct!\")\n",
    "    print (\"score: \", score)\n",
    "    print (\"\\n\")\n",
    "else: \n",
    "    print(\"Incorrect! The answer is: A programming language\")\n",
    "    print(\"score: \", score)\n",
    "    print(\"\\n\")\n",
    "\n",
    "# Question 2\n",
    "answer2 = input(\"What is Python3 \\na. A snake \\nb. A programming language \\nc. A video game \\nd. Javascript \\nAnswer: \")\n",
    "if answer2 == \"b\" or answer1 == \"A programming language\": \n",
    "    score += 1\n",
    "    print (\"correct!\")\n",
    "    print (\"score: \", score)\n",
    "    print (\"\\n\")\n",
    "else: \n",
    "    print(\"Incorrect! The answer is: A programming language\")\n",
    "    print(\"score: \", score)\n",
    "    print(\"\\n\")\n",
    "    \n",
    "#Final Message\n",
    "if score <= 1: \n",
    "    print (\"Your total score is:\", score, \"- You Suck!\")\n",
    "elif score == 2:\n",
    "    print (\"Your total score is:\", score, \"- You Did Alright\")\n",
    "else:\n",
    "    print (\"Your total score is:\", score, \"-GOOD JOB!\")\n"
   ]
  }
 ],
 "metadata": {
  "kernelspec": {
   "display_name": "Python 3.9.12 ('base')",
   "language": "python",
   "name": "python3"
  },
  "language_info": {
   "codemirror_mode": {
    "name": "ipython",
    "version": 3
   },
   "file_extension": ".py",
   "mimetype": "text/x-python",
   "name": "python",
   "nbconvert_exporter": "python",
   "pygments_lexer": "ipython3",
   "version": "3.9.12"
  },
  "orig_nbformat": 4,
  "vscode": {
   "interpreter": {
    "hash": "a7fbbb54f4c181edc972ed0306a01439bd91c43236a2d6fefc317f72e31b9e0c"
   }
  }
 },
 "nbformat": 4,
 "nbformat_minor": 2
}
