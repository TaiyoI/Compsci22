{
 "cells": [
  {
   "cell_type": "markdown",
   "metadata": {},
   "source": [
    "# Lists, Dictionaries, Iteration\n",
    "> An introduction to Data Abstraction using Python Lists [] and Python Dictionaries {}.\n",
    "\n",
    "- title: Lists, Dictionaries, Iteration\n",
    "- toc: true\n",
    "- categories: [units]\n",
    "- image: /images/python_lists.png\n",
    "- categories: [Week 3]\n",
    "- tags: [python]"
   ]
  },
  {
   "cell_type": "code",
   "execution_count": 15,
   "metadata": {},
   "outputs": [
    {
     "name": "stdout",
     "output_type": "stream",
     "text": [
      "['Taiyo', 'Iwazaki', 'SanDiego', 'November 19', 'None']\n",
      "For loop output\n",
      "\n"
     ]
    },
    {
     "ename": "TypeError",
     "evalue": "string indices must be integers",
     "output_type": "error",
     "traceback": [
      "\u001b[0;31m---------------------------------------------------------------------------\u001b[0m",
      "\u001b[0;31mTypeError\u001b[0m                                 Traceback (most recent call last)",
      "\u001b[1;32m/Users/taiyoi/Documents/Compsci22-1/_notebooks/2022-09-06-Python-Lists-And-Dictionaries.ipynb Cell 2\u001b[0m in \u001b[0;36m<cell line: 47>\u001b[0;34m()\u001b[0m\n\u001b[1;32m     <a href='vscode-notebook-cell:/Users/taiyoi/Documents/Compsci22-1/_notebooks/2022-09-06-Python-Lists-And-Dictionaries.ipynb#W2sZmlsZQ%3D%3D?line=43'>44</a>\u001b[0m     \u001b[39mfor\u001b[39;00m record \u001b[39min\u001b[39;00m InfoDb:\n\u001b[1;32m     <a href='vscode-notebook-cell:/Users/taiyoi/Documents/Compsci22-1/_notebooks/2022-09-06-Python-Lists-And-Dictionaries.ipynb#W2sZmlsZQ%3D%3D?line=44'>45</a>\u001b[0m         print_data(record)\n\u001b[0;32m---> <a href='vscode-notebook-cell:/Users/taiyoi/Documents/Compsci22-1/_notebooks/2022-09-06-Python-Lists-And-Dictionaries.ipynb#W2sZmlsZQ%3D%3D?line=46'>47</a>\u001b[0m for_loop()\n",
      "\u001b[1;32m/Users/taiyoi/Documents/Compsci22-1/_notebooks/2022-09-06-Python-Lists-And-Dictionaries.ipynb Cell 2\u001b[0m in \u001b[0;36mfor_loop\u001b[0;34m()\u001b[0m\n\u001b[1;32m     <a href='vscode-notebook-cell:/Users/taiyoi/Documents/Compsci22-1/_notebooks/2022-09-06-Python-Lists-And-Dictionaries.ipynb#W2sZmlsZQ%3D%3D?line=42'>43</a>\u001b[0m \u001b[39mprint\u001b[39m(\u001b[39m\"\u001b[39m\u001b[39mFor loop output\u001b[39m\u001b[39m\\n\u001b[39;00m\u001b[39m\"\u001b[39m)\n\u001b[1;32m     <a href='vscode-notebook-cell:/Users/taiyoi/Documents/Compsci22-1/_notebooks/2022-09-06-Python-Lists-And-Dictionaries.ipynb#W2sZmlsZQ%3D%3D?line=43'>44</a>\u001b[0m \u001b[39mfor\u001b[39;00m record \u001b[39min\u001b[39;00m InfoDb:\n\u001b[0;32m---> <a href='vscode-notebook-cell:/Users/taiyoi/Documents/Compsci22-1/_notebooks/2022-09-06-Python-Lists-And-Dictionaries.ipynb#W2sZmlsZQ%3D%3D?line=44'>45</a>\u001b[0m     print_data(record)\n",
      "\u001b[1;32m/Users/taiyoi/Documents/Compsci22-1/_notebooks/2022-09-06-Python-Lists-And-Dictionaries.ipynb Cell 2\u001b[0m in \u001b[0;36mprint_data\u001b[0;34m(d_rec)\u001b[0m\n\u001b[1;32m     <a href='vscode-notebook-cell:/Users/taiyoi/Documents/Compsci22-1/_notebooks/2022-09-06-Python-Lists-And-Dictionaries.ipynb#W2sZmlsZQ%3D%3D?line=31'>32</a>\u001b[0m \u001b[39mdef\u001b[39;00m \u001b[39mprint_data\u001b[39m(d_rec):\n\u001b[0;32m---> <a href='vscode-notebook-cell:/Users/taiyoi/Documents/Compsci22-1/_notebooks/2022-09-06-Python-Lists-And-Dictionaries.ipynb#W2sZmlsZQ%3D%3D?line=32'>33</a>\u001b[0m     \u001b[39mprint\u001b[39m(d_rec[\u001b[39m\"\u001b[39;49m\u001b[39mFirstName\u001b[39;49m\u001b[39m\"\u001b[39;49m], d_rec[\u001b[39m\"\u001b[39m\u001b[39mLastName\u001b[39m\u001b[39m\"\u001b[39m])  \u001b[39m# using comma puts space between values\u001b[39;00m\n\u001b[1;32m     <a href='vscode-notebook-cell:/Users/taiyoi/Documents/Compsci22-1/_notebooks/2022-09-06-Python-Lists-And-Dictionaries.ipynb#W2sZmlsZQ%3D%3D?line=33'>34</a>\u001b[0m     \u001b[39mprint\u001b[39m(\u001b[39m\"\u001b[39m\u001b[39m\\t\u001b[39;00m\u001b[39m\"\u001b[39m, \u001b[39m\"\u001b[39m\u001b[39mResidence:\u001b[39m\u001b[39m\"\u001b[39m, d_rec[\u001b[39m\"\u001b[39m\u001b[39mResidence\u001b[39m\u001b[39m\"\u001b[39m]) \u001b[39m# \\t is a tab indent\u001b[39;00m\n\u001b[1;32m     <a href='vscode-notebook-cell:/Users/taiyoi/Documents/Compsci22-1/_notebooks/2022-09-06-Python-Lists-And-Dictionaries.ipynb#W2sZmlsZQ%3D%3D?line=34'>35</a>\u001b[0m     \u001b[39mprint\u001b[39m(\u001b[39m\"\u001b[39m\u001b[39m\\t\u001b[39;00m\u001b[39m\"\u001b[39m, \u001b[39m\"\u001b[39m\u001b[39mBirth Day:\u001b[39m\u001b[39m\"\u001b[39m, d_rec[\u001b[39m\"\u001b[39m\u001b[39mDOB\u001b[39m\u001b[39m\"\u001b[39m])\n",
      "\u001b[0;31mTypeError\u001b[0m: string indices must be integers"
     ]
    }
   ],
   "source": [
    "InfoDb = []\n",
    "\n",
    "# InfoDB is a data structure with expected Keys and Values\n",
    "\n",
    "# Append to List a Dictionary of key/values related to a person and cars\n",
    "# Using Info DB, I can create a dictionary with the key values that I am using.\n",
    "InfoDb.append({\n",
    "    \"FirstName\": \"Taiyo\",\n",
    "    \"LastName\": \"Iwazaki\",\n",
    "    \"DOB\": \"November 19\",\n",
    "    \"Residence\": \"San Diego\",\n",
    "    \"Email\": \"Taiyo.Iwazaki123@gmail.com\",\n",
    "})\n",
    "\n",
    "# Append to List a 2nd Dictionary of key/values\n",
    "InfoDb.append({\n",
    "    \"FirstName\": \"Sunny\",\n",
    "    \"LastName\": \"Naidu\",\n",
    "    \"DOB\": \"August 2\",\n",
    "    \"Residence\": \"Temecula\",\n",
    "    \"Email\": \"snaidu@powayusd.com\",\n",
    "    \"Owns_Cars\": [\"4Runner\"]\n",
    "})\n",
    "\n",
    "InfoDb = [\"Taiyo\", \"Iwazaki\", \"SanDiego\", \"November 19\", \"None\"]\n",
    "\n",
    "# Here I am giving the Info from the previous syntax some structure and cleaning my output up.\n",
    "# Print the data structure\n",
    "print(InfoDb)\n",
    "\n",
    "# print function: given a dictionary of InfoDb content\n",
    "def print_data(d_rec):\n",
    "    print(d_rec[\"FirstName\"], d_rec[\"LastName\"])  # using comma puts space between values\n",
    "    print(\"\\t\", \"Residence:\", d_rec[\"Residence\"]) # \\t is a tab indent\n",
    "    print(\"\\t\", \"Birth Day:\", d_rec[\"DOB\"])\n",
    "    print(\"\\t\", \"Cars: \", end=\"\")  # end=\"\" make sure no return occurs\n",
    "    print(\", \".join(d_rec[\"Owns_Cars\"]))  # join allows printing a string list with separator\n",
    "    print()\n",
    "\n",
    "\n",
    "# for loop algorithm iterates on length of InfoDb\n",
    "def for_loop():\n",
    "    print(\"For loop output\\n\")\n",
    "    for record in InfoDb:\n",
    "        print_data(record)\n",
    "\n",
    "for_loop()"
   ]
  }
 ],
 "metadata": {
  "kernelspec": {
   "display_name": "Python 3.10.6 64-bit",
   "language": "python",
   "name": "python3"
  },
  "language_info": {
   "codemirror_mode": {
    "name": "ipython",
    "version": 3
   },
   "file_extension": ".py",
   "mimetype": "text/x-python",
   "name": "python",
   "nbconvert_exporter": "python",
   "pygments_lexer": "ipython3",
   "version": "3.10.6"
  },
  "orig_nbformat": 4,
  "vscode": {
   "interpreter": {
    "hash": "b0fa6594d8f4cbf19f97940f81e996739fb7646882a419484c72d19e05852a7e"
   }
  }
 },
 "nbformat": 4,
 "nbformat_minor": 2
}
