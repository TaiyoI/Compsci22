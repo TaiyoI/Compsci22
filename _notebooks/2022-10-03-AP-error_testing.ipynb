{
 "cells": [
  {
   "cell_type": "markdown",
   "metadata": {},
   "source": [
    "# Big Idea 1 'Identifying and Correcting Errors'\n",
    "> Practice with identifying and correcting code blocks\n",
    "\n",
    "- layout: default\n",
    "- badges: false\n",
    "- permalink: /collegeboard/error\n",
    "- image: /images/apcsp.png\n",
    "- categories: [1.B, 4.C]\n",
    "- type: ap\n",
    "- week: 7"
   ]
  },
  {
   "cell_type": "markdown",
   "metadata": {},
   "source": [
    "[College Board Big Idea 1](https://apclassroom.collegeboard.org/103/home?unit=1)\n",
    "\n",
    "## Identifying and Correcting Errors (Unit 1.4)\n",
    "> Become familiar with types of errors and strategies to fixing them\n",
    "- Lightly Review Videos and take notes on topics with Blog\n",
    "- Complete assigned MCQ questions"
   ]
  },
  {
   "cell_type": "markdown",
   "metadata": {},
   "source": [
    "# Here are some code segments you can practice fixing:"
   ]
  },
  {
   "cell_type": "code",
   "execution_count": null,
   "metadata": {},
   "outputs": [],
   "source": [
    "#Create a list of the alphabet\n",
    "\n",
    "alphabet = \"abcdefghijklmnopqrstuvwxyz\"\n",
    "\n",
    "alphabetList = []\n",
    "\n",
    "for i in alphabet:\n",
    "    alphabetList.append(i)\n",
    "\n",
    "print(alphabetList)"
   ]
  },
  {
   "cell_type": "markdown",
   "metadata": {},
   "source": [
    "The intended outcome is to determine where the letter is in the alphabet using a while loop\n",
    "- What is a good test case to check the current outcome? Why?\n",
    "- Make changes to get the intended outcome."
   ]
  },
  {
   "cell_type": "code",
   "execution_count": null,
   "metadata": {},
   "outputs": [],
   "source": [
    "\n",
    "\n",
    "letter = input(\"What letter would you like to check?\")\n",
    "\n",
    "i = +1\n",
    "\n",
    "while i < 26:\n",
    "    if alphabetList[i] == letter:\n",
    "        print(\"The letter \" + letter + \" is the \" + str(i) + \" letter in the alphabet\")\n",
    "    i += 1\n",
    "\n"
   ]
  },
  {
   "cell_type": "markdown",
   "metadata": {},
   "source": [
    "The intended outcome is to determine where the letter is in the alphabet using a for loop\n",
    "- What is a good test case to check the current outcome? Why?\n",
    "- Make changes to get the intended outcome."
   ]
  },
  {
   "cell_type": "code",
   "execution_count": null,
   "metadata": {},
   "outputs": [],
   "source": [
    "\n",
    "\n",
    "letter = input(\"What letter would you like to check?\")\n",
    "\n",
    "for i in alphabetList:\n",
    "    count = 0\n",
    "    if i == letter:\n",
    "        print(\"The letter \" + letter + \" is the \" + str(count) + \" letter in the alphabet\")\n",
    "    count += 1\n",
    "\n"
   ]
  },
  {
   "cell_type": "markdown",
   "metadata": {},
   "source": [
    "This code outputs the even numbers from 0 - 10 using a while loop.\n",
    "- Analyze this code to determine what can be changed to get the outcome to be odd numbers. (Code block below)\n"
   ]
  },
  {
   "cell_type": "code",
   "execution_count": null,
   "metadata": {},
   "outputs": [],
   "source": [
    "\n",
    "evens = []\n",
    "i = 0\n",
    "\n",
    "while i <= 10:\n",
    "    evens.append(i)\n",
    "    i += 2\n",
    "\n",
    "print(evens)    \n",
    "\n"
   ]
  },
  {
   "cell_type": "markdown",
   "metadata": {},
   "source": [
    "This code should output the odd numbers from 0 - 10 using a while loop."
   ]
  },
  {
   "cell_type": "code",
   "execution_count": null,
   "metadata": {},
   "outputs": [],
   "source": [
    "\n",
    "odds = []\n",
    "i = 0\n",
    "\n",
    "while i <= 10:\n",
    "    odds.append(i)\n",
    "    i += 2\n",
    "\n",
    "print(odds)"
   ]
  },
  {
   "cell_type": "markdown",
   "metadata": {},
   "source": [
    "This code outputs the even numbers from 0 - 10 using a for loop.\n",
    "- Analyze this code to determine what can be changed to get the outcome to be odd numbers. (Code block below)"
   ]
  },
  {
   "cell_type": "code",
   "execution_count": null,
   "metadata": {},
   "outputs": [],
   "source": [
    "\n",
    "numbers = [0,1,2,3,4,5,6,7,8,9,10]\n",
    "evens = []\n",
    "\n",
    "for i in numbers:\n",
    "    if (numbers[i] % 2 == 0):\n",
    "        evens.append(numbers[i])\n",
    "\n",
    "print(evens)\n",
    "\n"
   ]
  },
  {
   "cell_type": "markdown",
   "metadata": {},
   "source": [
    "This code should output the odd numbers from 0 - 10 using a for loop."
   ]
  },
  {
   "cell_type": "code",
   "execution_count": null,
   "metadata": {},
   "outputs": [],
   "source": [
    "\n",
    "numbers = [0,1,2,3,4,5,6,7,8,9,10]\n",
    "odds = []\n",
    "\n",
    "for i in numbers:\n",
    "    if (numbers[i] % 2 == 0):\n",
    "        odds.append(numbers[i])\n",
    "\n",
    "print(odds)"
   ]
  },
  {
   "cell_type": "markdown",
   "metadata": {},
   "source": [
    "The intended outcome is printing a number between 1 and 100 once, if it is a multiple of 2 or 5 \n",
    "- What values are outputted incorrectly. Why?\n",
    "- Make changes to get the intended outcome."
   ]
  },
  {
   "cell_type": "code",
   "execution_count": null,
   "metadata": {},
   "outputs": [],
   "source": [
    "\n",
    "numbers = []\n",
    "newNumbers = []\n",
    "i = 0\n",
    "\n",
    "while i < 100:\n",
    "    numbers.append(i)\n",
    "    i += 1\n",
    "\n",
    "for i in numbers:\n",
    "    if numbers[i] % 5 == 0:\n",
    "        newNumbers.append(numbers[i])\n",
    "    if numbers[i] % 2 == 0:\n",
    "        newNumbers.append(numbers[i])\n",
    "\n",
    "print(newNumbers) \n",
    "\n"
   ]
  },
  {
   "cell_type": "markdown",
   "metadata": {},
   "source": [
    "# Challenge\n",
    "\n",
    "This code segment is at a very early stage of implementation.\n",
    "- What are some ways to (user) error proof this code?\n",
    "- The code should be able to calculate the cost of the meal of the user\n",
    "\n",
    "Hint:\n",
    "- write a “single” test describing an expectation of the program of the program\n",
    "- test - input burger, expect output of burger price\n",
    "- run the test, which should fail because the program lacks that feature\n",
    "- write “just enough” code, the simplest possible, to make the test pass\n",
    "\n",
    "Then repeat this process until you get program working like you want it to work."
   ]
  },
  {
   "cell_type": "code",
   "execution_count": 57,
   "metadata": {},
   "outputs": [
    {
     "name": "stdout",
     "output_type": "stream",
     "text": [
      "Welcome to Taiyo's Burger Shop.\n",
      "Check out the menu below\n",
      "+--------+---------+\n",
      "| Item   |   Price |\n",
      "+========+=========+\n",
      "| burger |    3.99 |\n",
      "+--------+---------+\n",
      "| fries  |    1.99 |\n",
      "+--------+---------+\n",
      "| drink  |    0.99 |\n",
      "+--------+---------+\n",
      "Menu\n",
      "burger  $3.99\n",
      "fries  $1.99\n",
      "drink  $0.99\n",
      "Your total: $3.99\n",
      "Your total: $5.98\n",
      "Your total: $6.97\n",
      "Your total: $7.96\n",
      "Your total: $9.95\n",
      "Your total: $13.94\n",
      "Your order will be ready soon!\n"
     ]
    }
   ],
   "source": [
    "\n",
    "\n",
    "print(\"Welcome to Taiyo's Burger Shop.\")\n",
    "print(\"Check out the menu below\")\n",
    "# import module\n",
    "from tabulate import tabulate\n",
    " \n",
    "# assign data\n",
    "mydata = [\n",
    "    [\"burger\", \"3.99\"],\n",
    "    [\"fries\", \"1.99\"],\n",
    "    [\"drink\", \"0.99\"], \n",
    "]\n",
    " \n",
    "# create header\n",
    "head = [\"Item\", \"Price\"]\n",
    " \n",
    "# display table\n",
    "print(tabulate(mydata, headers=head, tablefmt=\"grid\"))\n",
    "\n",
    "import sys\n",
    "total = 0 \n",
    "menu =  {\"burger\": 3.99, \n",
    "        \"fries\": 1.99, \n",
    "        \"drink\": 0.99}\n",
    "\n",
    "print(\"Menu\")\n",
    "for k,v in menu.items():\n",
    "    print(k + \"  $\" + str(v)) \n",
    "\n",
    "order = True\n",
    "\n",
    "while order:\n",
    "    food = input(\"Please select an item from the menu. Press enter when you are done ordering.\")\n",
    "\n",
    "    if food in menu:\n",
    "        total += menu[food]\n",
    "        print(\"Your total: \"\"$\" + \"{:.2f}\".format(total))\n",
    "    else:\n",
    "        print(\"Your order will be ready soon!\")\n",
    "        order = False"
   ]
  },
  {
   "cell_type": "code",
   "execution_count": 81,
   "metadata": {},
   "outputs": [
    {
     "name": "stdout",
     "output_type": "stream",
     "text": [
      "Welcome to Taiyo's Burger Shop.\n",
      "Check out the menu below\n",
      "+---------------+---------+\n",
      "| Item          |   Price |\n",
      "+===============+=========+\n",
      "| Burger        |    2.99 |\n",
      "+---------------+---------+\n",
      "| Double Double |    3.99 |\n",
      "+---------------+---------+\n",
      "| Large Fries   |    1.99 |\n",
      "+---------------+---------+\n",
      "| Drink         |    0.99 |\n",
      "+---------------+---------+\n",
      "| Burger Meal   |    5.99 |\n",
      "+---------------+---------+\n",
      "| Frosty        |    1.99 |\n",
      "+---------------+---------+\n",
      "Invalid Item\n",
      "Invalid Item\n"
     ]
    }
   ],
   "source": [
    "\n",
    "\n",
    "\n",
    "def Order(quantity, item_list):\n",
    "    global total\n",
    "    if quantity > item_list[2]:\n",
    "        print(\"There is not enough stock!\")\n",
    "        pass\n",
    "    else:\n",
    "        total += item_list[1] * quantity\n",
    "        item_list[2] -= quantity\n",
    "\n",
    "total = 0\n",
    "A = [\"Burger\", (3.99), 50], \n",
    "[\"Double Double\", (4.99), 60], \n",
    "[\"Large Fries\", (1.99), 200], \n",
    "[\"Drink\", (0.99), 200], \n",
    "[\"Burger Meal\", (5.99), 0],\n",
    "[\"Frosty\", (1.99), 20],\n",
    "\n",
    "\n",
    "print(\"Welcome to Taiyo's Burger Shop.\")\n",
    "print(\"Check out the menu below\")\n",
    "# import module\n",
    "from tabulate import tabulate\n",
    " \n",
    "# assign data\n",
    "mydata = [\n",
    "    [\"Burger\", \"2.99\"],\n",
    "    [\"Double Double\", \"3.99\"],\n",
    "    [\"Large Fries\", \"1.99\"], \n",
    "    [\"Drink\", \"0.99\"],\n",
    "    [\"Burger Meal\", \"5.99\"],\n",
    "    [\"Frosty\", \"1.99\"],\n",
    "]\n",
    " \n",
    "# create header\n",
    "head = [\"Item\", \"Price\"]\n",
    " \n",
    "# display table\n",
    "print(tabulate(mydata, headers=head, tablefmt=\"grid\"))\n",
    "\n",
    "while True:\n",
    "    choice = (input(\"\\nWhat would you like?\\n\")).upper() \n",
    "    quantity = int(input(\"\\nHow many would you like?\\n\"))\n",
    "\n",
    "    if choice == \"Burger\":\n",
    "        Order(quantity, A[0])\n",
    "    elif choice == \"Double Double\":\n",
    "        Order(quantity, A[1])\n",
    "    elif choice == \"Large Fries\":\n",
    "        Order(quantity, A[2])\n",
    "    elif choice == \"Drink\":\n",
    "        Order(quantity, A[3])\n",
    "    elif choice == \"Burger Meal\":\n",
    "        Order(quantity, A[4])\n",
    "    elif choice == \"Frosty\":\n",
    "        Order(quantity, A[5])\n",
    "    else:\n",
    "        print(\"Invalid Item\")\n",
    "\n",
    "    print: total\n",
    "    \n",
    "    more_items = (input(\"Do you want to order more items? If no, press enter\")).lower()\n",
    "    if more_items == \"yes\":\n",
    "        pass\n",
    "    else:\n",
    "        break\n",
    "        print(\"Thank You For Ordering From Taiyo's Burgers!\")"
   ]
  },
  {
   "cell_type": "markdown",
   "metadata": {},
   "source": [
    "## Hacks\n",
    "> Now is a good time to think about Testing of your teams final project...\n",
    "- What errors may arise in your project?\n",
    "- What are some test cases that can be used?\n",
    "- Make sure to document any bugs you encounter and how you solved the problem.\n",
    "- What are “single” tests that you will perform on your project? Or, your part of the project?\n",
    "    * As Hack Design and Test plan action … Divide these “single” tests into Issues for Scrum Board prior to coding. FYI, related tests could be in same Issue by using markdown checkboxes to separate tests."
   ]
  }
 ],
 "metadata": {
  "kernelspec": {
   "display_name": "Python 3.10.6 64-bit",
   "language": "python",
   "name": "python3"
  },
  "language_info": {
   "codemirror_mode": {
    "name": "ipython",
    "version": 3
   },
   "file_extension": ".py",
   "mimetype": "text/x-python",
   "name": "python",
   "nbconvert_exporter": "python",
   "pygments_lexer": "ipython3",
   "version": "3.10.6"
  },
  "orig_nbformat": 4,
  "vscode": {
   "interpreter": {
    "hash": "b0fa6594d8f4cbf19f97940f81e996739fb7646882a419484c72d19e05852a7e"
   }
  }
 },
 "nbformat": 4,
 "nbformat_minor": 2
}
