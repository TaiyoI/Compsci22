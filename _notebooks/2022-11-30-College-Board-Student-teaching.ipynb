{
 "cells": [
  {
   "cell_type": "markdown",
   "metadata": {},
   "source": [
    "# College board teaching\n",
    "This is the college board Jupyter file I am using to take notes on the different student teachers.\n",
    "- title: \"APCSP Student Teaching\"\n",
    "- description: APCSP Student teaching\n",
    "- toc: true\n",
    "- comments: true\n",
    "- layout: post\n",
    "- author: Taiyo Iwazaki\n",
    "- tags: [Teaching, Markdown]\n",
    "\n",
    "\n",
    "------"
   ]
  },
  {
   "cell_type": "markdown",
   "metadata": {},
   "source": [
    "\n",
    "\n",
    "## Unit 3 Section 1-2 Notes\n",
    "\n",
    " * A variable is an abstraction inside a program that holds a value, where each variable has associated data storage that represents a single value at a time (However, if the value is a collection type such as a list, then the value can contain multiple values).\n",
    " * Variables typically have meaningful names that helps with the overall organization of the code and understanding of what is being represented by the variables\n",
    " * Some programming languages provide a variety of methods to represent data, which are referenced using variables 9Booleans, numbers, lists, and strings)\n",
    " * One form of a value is better suited for representation than another.\n",
    "\n",
    "## Units 3 section 1-2 Hacks\n",
    "\n",
    "Questions (College Board's Essential Knowledge):\n",
    "1. What exactly IS a variable?\n",
    "\n",
    "<mark>A variable is an abstraction inside a program that holds a value, where each variable has associated data storage that</mark>\n",
    "\n",
    "2. What is the best data type to represent someone's dog's name? \n",
    "\n",
    "<mark>A string</mark>\n",
    "\n",
    "3. Why is it important to give variables specific names before containing values?\n",
    "\n",
    "<mark>So you can call them whilst writing code.</mark>\n",
    "\n",
    "4. What is the best way to represent someone's phone number?\n",
    "\n",
    "<mark>You would use a string because you are not using \n",
    "the numbers of the phone number to compute anything.</mark>\n",
    "\n",
    "- In your **own** words, briefly explain by writing down what an assignment operator is\n",
    "\n",
    "<mark>An Assignment operator is essentially the equal sign in coding.</mark>\n",
    "\n",
    "- In Collegeboard pseudocode, what symbol is used to assign values to variables?\n",
    "\n",
    "<mark>\"<--\"</mark>\n",
    "\n",
    "- A variable, x, is initially given a value of 15. Later on, the value for x is changed to 22. If you print x, would the command display 15 or 22?\n",
    "\n",
    "<mark>The command would display 22.</mark>\n",
    "\n",
    "\n",
    "* What is a list?\n",
    "\n",
    "<mark>a list is a sequence of elements with each element being a variable.</mark>\n",
    "\n",
    "* What is an element\n",
    "\n",
    "<mark>elements are the items inside a list</mark>\n",
    "\n",
    "* What is an easy way to reference the elements in a list or string?\n",
    "\n",
    "<mark>Using print</mark>\n",
    "\n",
    "* What is an example of a string?\n",
    "\n",
    "<mark>A phone number</mark>\n",
    "\n",
    "* Create a list with indices \n",
    "* Index a part of the list that you created.\n",
    "* Try to index from the end \n",
    "\n",
    "\n",
    "\n"
   ]
  },
  {
   "cell_type": "code",
   "execution_count": 3,
   "metadata": {},
   "outputs": [
    {
     "name": "stdout",
     "output_type": "stream",
     "text": [
      "Luna\n",
      "Ethan\n"
     ]
    }
   ],
   "source": [
    "NamesList = [\"Taiyo\", \"Luna\", \"Parav\", \"Ethan\"]\n",
    "print(NamesList[1])\n",
    "print(NamesList[3])"
   ]
  },
  {
   "cell_type": "markdown",
   "metadata": {},
   "source": [
    "The following code is incomplete. Its intended purpose is to increase three numbers, all of which ask for user input, by an amount specified the user. The input code is abstracted, but the actual logic isn’t connected to the abstraction."
   ]
  },
  {
   "cell_type": "code",
   "execution_count": 5,
   "metadata": {},
   "outputs": [
    {
     "name": "stdout",
     "output_type": "stream",
     "text": [
      "User submitted numbers [1, 1, 1]\n",
      "Plus 1\n",
      "Result:  [2, 2, 2]\n"
     ]
    }
   ],
   "source": [
    "num1=input(\"Input a number. \")\n",
    "num2=input(\"Input a number. \")\n",
    "num3=input(\"Input a number. \")\n",
    "add=input(\"How much would you like to add? \")\n",
    "\n",
    "# Add code in the space below\n",
    "\n",
    "numlist = [int(num1), int(num2), int(num3)]\n",
    "print(\"User submitted numbers\", numlist)\n",
    "print(\"Plus \" + add)\n",
    "\n",
    "# The following is the code that adds the inputted addend to the other numbers. It is hidden from the user.\n",
    "\n",
    "for i in range (len(numlist)):\n",
    "    numlist[i-1] += int(add)\n",
    "\n",
    "print(\"Result: \", numlist)1"
   ]
  },
  {
   "cell_type": "markdown",
   "metadata": {},
   "source": [
    "![image](https://user-images.githubusercontent.com/111478625/204657704-3dbf773e-630f-409a-a47e-20610717740d.png)\n",
    "\n",
    "![Screenshot 2022-11-29 at 2 01 23 PM](https://user-images.githubusercontent.com/111478625/204657920-eb45745b-5257-4fea-9027-eb4c36cd92b8.png)\n",
    "\n",
    "\n",
    "–UPDATE: fixed Steven’s hack, got 0.18/0.20 on Nathan’s hack, got 0.15/0.20 on Noor’s hack, full credit for Ederick’s hack (leniency).– Didn’t do Noor’s or Steven’s hacks and got 0.1 on Nathan’s hacks\n",
    "\n",
    "<mark>0.93/1</mark>\n",
    "\n",
    "---------\n",
    "\n",
    "## Unit 3 Section 3-4 Notes\n",
    "\n",
    "- An algorithm is a finite set of instruction that accomplish a task, it can be expressed by natural language, diagrams, and various other ways.\n",
    "\n",
    "- Sequencing, selection, and iteration.\n",
    "\n",
    "- Every algorithm can be created by a mixture of sequencing, selection, and iteration\n",
    "\n",
    "## Unit 3 Section 3-4 Hacks\n",
    "- You will describe the different parts of an algorithm, sequencing, selection, and iteration in the image below. \n",
    "- sequencing: <mark>The order of how to do a process</mark>\n",
    "- Selection: <mark>Allows an algorithm to make a decision based on the status if a condition is met</mark>\n",
    "- Iteration: <mark>A loop of doing something again and again.</mark>\n",
    "\n",
    "num1 = 5\n",
    "num2 = num1 * 3\n",
    "num3 = num2 / num1 * (9 % 2) * 4\n",
    "result = (num3 % num1 + num2) % num3 * 3 / 5\n",
    "\n",
    "<mark> The Answer to this algorithmic expression is 3</mark>"
   ]
  },
  {
   "cell_type": "markdown",
   "metadata": {},
   "source": [
    " **HACK for 3.3! CROSS WORD PUZZLE!**\n",
    "\n",
    "![crossword][def]\n",
    "\n",
    "[def]: /Tea_Lounge/images/cw.png\n",
    "\n",
    "example of how to do it in your blog:\n",
    "\n",
    "7 across - Baloney\n",
    "\n",
    "**Answers for the crossword puzzle**\n",
    "\n",
    "1. Iteration\n",
    "2. Selection\n",
    "3. Sequence\n",
    "\n",
    "![MCquiz](https://user-images.githubusercontent.com/111478625/205156200-ea927478-262b-42f3-a796-16b9b37a9da0.png )\n",
    "\n"
   ]
  },
  {
   "cell_type": "markdown",
   "metadata": {},
   "source": [
    "0.9/1 on the hacks for this section"
   ]
  },
  {
   "cell_type": "markdown",
   "metadata": {},
   "source": [
    "------\n",
    "\n",
    "## Hacks sections 5-6\n",
    "\n",
    "- Explain in your own words what each logical operator does\n",
    "1. Not: Not displays the exact opposite of whatever data is inputted\n",
    "2. And: And can help determine if two conditions are met\n",
    "3. Or: Can help determine if one of the conditions is met\n",
    "\n",
    "- Code your own scenario that makes sense for each logical operator\n"
   ]
  },
  {
   "cell_type": "code",
   "execution_count": 1,
   "metadata": {},
   "outputs": [
    {
     "name": "stdout",
     "output_type": "stream",
     "text": [
      "True\n"
     ]
    }
   ],
   "source": [
    "# Not\n",
    "Running = False\n",
    "result = not(Running)\n",
    "print(result)"
   ]
  },
  {
   "cell_type": "code",
   "execution_count": 5,
   "metadata": {},
   "outputs": [
    {
     "name": "stdout",
     "output_type": "stream",
     "text": [
      "You Rich\n"
     ]
    }
   ],
   "source": [
    "#And\n",
    "Money = 1000\n",
    "Coins = 100\n",
    "if Money >= 100 and Coins > 20:\n",
    "    print(\"You Rich\")"
   ]
  },
  {
   "cell_type": "code",
   "execution_count": 6,
   "metadata": {},
   "outputs": [
    {
     "name": "stdout",
     "output_type": "stream",
     "text": [
      "You Broke\n"
     ]
    }
   ],
   "source": [
    "#Or\n",
    "Money = 1\n",
    "Coins = 11\n",
    "if Money <= 0 or Coins < 20:\n",
    "    print(\"You Broke\")"
   ]
  },
  {
   "cell_type": "markdown",
   "metadata": {},
   "source": [
    "\n",
    "- 1 point for defining all the key terms in your own words. 0.5 points if you use examples that show you truly understand it.\n",
    "1. Selection: A piece of code that is determined by the output of true/false\n",
    "2. Algorithm: a process or set of rules to be followed in calculations \n",
    "3. Conditional Statement / If-Statement:  a set of rules performed if a certain condition is met\n",
    "\n",
    "- 1 point for writing a program that uses binary conditional logic. 0.5 points if it is original and shows complexity\n"
   ]
  },
  {
   "cell_type": "code",
   "execution_count": 7,
   "metadata": {},
   "outputs": [
    {
     "name": "stdout",
     "output_type": "stream",
     "text": [
      "15 is odd\n"
     ]
    }
   ],
   "source": [
    "x = 15\n",
    "\n",
    "if x % 2 == 0:\n",
    "    print(x, \"is even\")\n",
    "else:\n",
    "    print(x, \"is odd\")"
   ]
  },
  {
   "cell_type": "markdown",
   "metadata": {},
   "source": [
    "- 1 extra point for each challenge that you program or pair program. \n",
    "- 0.5 points for your review ticket looking nice, or you convincing me that it does.\n",
    "- 1 point for each and any extra work you do that helps show your understanding of conditionals."
   ]
  },
  {
   "cell_type": "markdown",
   "metadata": {},
   "source": [
    "## Hacks\n",
    "- Create 3 different flow charts representing nested statements and transfer them into code.\n",
    "- Create a piece of code that displays four statements instead of three. Try to do more if you can.\n",
    "- Make piece of code that gives three different recommendations for possible classes to take at a school based on two different conditions. These conditions could be if the student likes STEM or not."
   ]
  },
  {
   "cell_type": "markdown",
   "metadata": {},
   "source": [
    "![](https://user-images.githubusercontent.com/111478625/206028199-ca1dcddd-9ee3-4ac7-83df-174e05757cac.png)\n",
    "\n",
    "![](https://user-images.githubusercontent.com/111478625/206028230-04a0797f-e789-44d1-8357-3d6115f316e6.png)\n",
    "![](https://user-images.githubusercontent.com/111478625/206028523-fd732aa4-053d-4029-91f9-2872a0e919cc.png)\n"
   ]
  },
  {
   "cell_type": "code",
   "execution_count": 7,
   "metadata": {},
   "outputs": [
    {
     "name": "stdout",
     "output_type": "stream",
     "text": [
      "wake up\n",
      "it is the afternoon\n"
     ]
    }
   ],
   "source": [
    "day = True\n",
    "night = False\n",
    "\n",
    "if day == True:\n",
    "    print(\"wake up\")\n",
    "if night == True:\n",
    "    print(\"sleep\")\n",
    "else: \n",
    "    print(\"it is the afternoon\")"
   ]
  },
  {
   "cell_type": "markdown",
   "metadata": {},
   "source": [
    "## Units 3.9 and 3.11 Notes\n",
    "---\n",
    "<bold>Three main components of an algorithm</bold>\n",
    "1. Selection\n",
    "2. Sequence\n",
    "3. Iteration\n",
    "\n",
    "- Two pieces of code that look similar don't always produce the same things.\n",
    "- make notes in code\n",
    "---\n",
    "<bold>developing algorithms</bold>\n",
    "\n",
    "- when creating an algorithm, it is good to outline its process before coding\n",
    "- it ensures that it is sequenced correctly\n",
    "\n",
    "---\n",
    "\n"
   ]
  },
  {
   "cell_type": "markdown",
   "metadata": {},
   "source": [
    "## Units 3.9 and 3.11 Hacks\n",
    "\n",
    "- why is it important to know that algorithms that look different can do the same thing and that algorithms that look the same might have different results?(0.15)\n",
    "\n",
    "This is because when you are programming, sometimes code can produce different results which is sub-optimal for you.\n",
    "\n",
    "- for the converted conditional to boolean conversion(0.10)\n",
    "\n",
    "\n",
    "- total: 0.25"
   ]
  },
  {
   "cell_type": "code",
   "execution_count": 4,
   "metadata": {},
   "outputs": [
    {
     "name": "stdout",
     "output_type": "stream",
     "text": [
      "Wake up and work\n"
     ]
    }
   ],
   "source": [
    "isnight = False\n",
    "isday = True\n",
    "if isnight == True: \n",
    "        print(\"go to sleep\")\n",
    "\n",
    "else: \n",
    "    if isday == True: \n",
    "        print(\"Wake up and work\")\n"
   ]
  },
  {
   "cell_type": "code",
   "execution_count": 6,
   "metadata": {},
   "outputs": [
    {
     "name": "stdout",
     "output_type": "stream",
     "text": [
      "go eat\n"
     ]
    }
   ],
   "source": [
    "isnight = False\n",
    "isday = True\n",
    "\n",
    "eat = not(isnight) and isday\n",
    "if eat == False:\n",
    "    print (\"dont eat\")\n",
    "if eat == True:\n",
    "    print(\"go eat\")\n"
   ]
  },
  {
   "cell_type": "markdown",
   "metadata": {},
   "source": [
    "- Includes both a flowchart AND natural language\n",
    "![](https://user-images.githubusercontent.com/111478625/206028230-04a0797f-e789-44d1-8357-3d6115f316e6.png)\n",
    "- Working code of the same algorithm\n",
    "- Incorporates selection AND/OR iteration\n",
    "- Make it creative!"
   ]
  },
  {
   "cell_type": "code",
   "execution_count": 15,
   "metadata": {},
   "outputs": [
    {
     "name": "stdout",
     "output_type": "stream",
     "text": [
      "Has good reviews\n",
      "adjust your search\n"
     ]
    }
   ],
   "source": [
    "\n",
    "goodreviews = True\n",
    "afford = False\n",
    "if goodreviews == True:\n",
    "    print(\"Has good reviews\")\n",
    "    if afford and goodreviews == True:\n",
    "        print(\"product is affordable, has good reviews, and you should purchase your product\")\n",
    "if goodreviews == False:\n",
    "    print(\"adjust your search and click on another product\")\n",
    "if afford == False:\n",
    "    print(\"adjust your search\")\n",
    "\n",
    "\n",
    "\n",
    "\n",
    "    \n",
    "    "
   ]
  },
  {
   "cell_type": "code",
   "execution_count": 20,
   "metadata": {},
   "outputs": [
    {
     "name": "stdout",
     "output_type": "stream",
     "text": [
      "I'm thinking of a number between 1 and 100.\n",
      "You guessed None.\n"
     ]
    },
    {
     "ename": "TypeError",
     "evalue": "'<' not supported between instances of 'NoneType' and 'int'",
     "output_type": "error",
     "traceback": [
      "\u001b[0;31m---------------------------------------------------------------------------\u001b[0m",
      "\u001b[0;31mTypeError\u001b[0m                                 Traceback (most recent call last)",
      "\u001b[1;32m/Users/taiyoi/Documents/Compsci22-1/_notebooks/2022-11-30-College-Board-Student-teaching.ipynb Cell 25\u001b[0m in \u001b[0;36m<cell line: 33>\u001b[0;34m()\u001b[0m\n\u001b[1;32m     <a href='vscode-notebook-cell:/Users/taiyoi/Documents/Compsci22-1/_notebooks/2022-11-30-College-Board-Student-teaching.ipynb#X35sZmlsZQ%3D%3D?line=34'>35</a>\u001b[0m     num_guesses \u001b[39m+\u001b[39m\u001b[39m=\u001b[39m \u001b[39m1\u001b[39m\n\u001b[1;32m     <a href='vscode-notebook-cell:/Users/taiyoi/Documents/Compsci22-1/_notebooks/2022-11-30-College-Board-Student-teaching.ipynb#X35sZmlsZQ%3D%3D?line=35'>36</a>\u001b[0m     \u001b[39mprint\u001b[39m(\u001b[39mf\u001b[39m\u001b[39m\"\u001b[39m\u001b[39mYou guessed \u001b[39m\u001b[39m{\u001b[39;00muser_guess\u001b[39m}\u001b[39;00m\u001b[39m.\u001b[39m\u001b[39m\"\u001b[39m)\n\u001b[0;32m---> <a href='vscode-notebook-cell:/Users/taiyoi/Documents/Compsci22-1/_notebooks/2022-11-30-College-Board-Student-teaching.ipynb#X35sZmlsZQ%3D%3D?line=36'>37</a>\u001b[0m     lower_bound, upper_bound \u001b[39m=\u001b[39m search(number, user_guess)\n\u001b[1;32m     <a href='vscode-notebook-cell:/Users/taiyoi/Documents/Compsci22-1/_notebooks/2022-11-30-College-Board-Student-teaching.ipynb#X35sZmlsZQ%3D%3D?line=37'>38</a>\u001b[0m     \u001b[39mprint\u001b[39m(\u001b[39mf\u001b[39m\u001b[39m\"\u001b[39m\u001b[39mGuess a number between \u001b[39m\u001b[39m{\u001b[39;00mlower_bound\u001b[39m}\u001b[39;00m\u001b[39m and \u001b[39m\u001b[39m{\u001b[39;00mupper_bound\u001b[39m}\u001b[39;00m\u001b[39m.\u001b[39m\u001b[39m\"\u001b[39m)\n\u001b[1;32m     <a href='vscode-notebook-cell:/Users/taiyoi/Documents/Compsci22-1/_notebooks/2022-11-30-College-Board-Student-teaching.ipynb#X35sZmlsZQ%3D%3D?line=39'>40</a>\u001b[0m \u001b[39mprint\u001b[39m(\u001b[39mf\u001b[39m\u001b[39m\"\u001b[39m\u001b[39mYou guessed the number in \u001b[39m\u001b[39m{\u001b[39;00mnum_guesses\u001b[39m}\u001b[39;00m\u001b[39m guesses!\u001b[39m\u001b[39m\"\u001b[39m)\n",
      "\u001b[1;32m/Users/taiyoi/Documents/Compsci22-1/_notebooks/2022-11-30-College-Board-Student-teaching.ipynb Cell 25\u001b[0m in \u001b[0;36msearch\u001b[0;34m(number, guess)\u001b[0m\n\u001b[1;32m     <a href='vscode-notebook-cell:/Users/taiyoi/Documents/Compsci22-1/_notebooks/2022-11-30-College-Board-Student-teaching.ipynb#X35sZmlsZQ%3D%3D?line=22'>23</a>\u001b[0m \u001b[39mdef\u001b[39;00m \u001b[39msearch\u001b[39m(number, guess):\n\u001b[1;32m     <a href='vscode-notebook-cell:/Users/taiyoi/Documents/Compsci22-1/_notebooks/2022-11-30-College-Board-Student-teaching.ipynb#X35sZmlsZQ%3D%3D?line=23'>24</a>\u001b[0m     \u001b[39mglobal\u001b[39;00m lower_bound, upper_bound\n\u001b[0;32m---> <a href='vscode-notebook-cell:/Users/taiyoi/Documents/Compsci22-1/_notebooks/2022-11-30-College-Board-Student-teaching.ipynb#X35sZmlsZQ%3D%3D?line=24'>25</a>\u001b[0m     \u001b[39mif\u001b[39;00m guess \u001b[39m<\u001b[39;49m number:\n\u001b[1;32m     <a href='vscode-notebook-cell:/Users/taiyoi/Documents/Compsci22-1/_notebooks/2022-11-30-College-Board-Student-teaching.ipynb#X35sZmlsZQ%3D%3D?line=25'>26</a>\u001b[0m         \u001b[39mprint\u001b[39m(\u001b[39m\"\u001b[39m\u001b[39mYou are bad at guessing\u001b[39m\u001b[39m\"\u001b[39m) \u001b[39m#change this\u001b[39;00m\n\u001b[1;32m     <a href='vscode-notebook-cell:/Users/taiyoi/Documents/Compsci22-1/_notebooks/2022-11-30-College-Board-Student-teaching.ipynb#X35sZmlsZQ%3D%3D?line=26'>27</a>\u001b[0m         lower_bound \u001b[39m=\u001b[39m guess\n",
      "\u001b[0;31mTypeError\u001b[0m: '<' not supported between instances of 'NoneType' and 'int'"
     ]
    }
   ],
   "source": [
    "import random\n",
    "\n",
    "#sets variables for the game\n",
    "num_guesses = 0\n",
    "user_guess = 0\n",
    "upper_bound = 100\n",
    "lower_bound = 0\n",
    "\n",
    "#generates a random number\n",
    "number = random.randint(1,100)\n",
    "\n",
    "# print(number)     #for testing purposes\n",
    "\n",
    "print(f\"I'm thinking of a number between 1 and 100.\")\n",
    "\n",
    "##Write a function that gets a guess from the user using input()\n",
    "def guess():\n",
    "    \n",
    "    return\n",
    "    print:(\"good guess\")\n",
    "\n",
    "#Change the print statements to give feedback on whether the player guessed too high or too low\n",
    "def search(number, guess):\n",
    "    global lower_bound, upper_bound\n",
    "    if guess < number:\n",
    "        print(\"You are bad at guessing\") #change this\n",
    "        lower_bound = guess\n",
    "    elif guess > number:\n",
    "        print(\"You suck :(\") #change this\n",
    "        upper_bound = guess\n",
    "    return lower_bound, upper_bound\n",
    "\n",
    "while user_guess != number:\n",
    "    user_guess = guess()\n",
    "    num_guesses += 1\n",
    "    print(f\"You guessed {user_guess}.\")\n",
    "    lower_bound, upper_bound = search(number, user_guess)\n",
    "    print(f\"Guess a number between {lower_bound} and {upper_bound}.\")\n",
    "\n",
    "print(f\"You guessed the number in {num_guesses} guesses!\")"
   ]
  },
  {
   "cell_type": "markdown",
   "metadata": {},
   "source": [
    "![](https://user-images.githubusercontent.com/111478625/206035256-d5a229c4-19cc-49fb-9230-04a40125e932.png)\n"
   ]
  },
  {
   "cell_type": "markdown",
   "metadata": {},
   "source": [
    "1. calculate the middle index and create a binary tree for each of these lists\n",
    "    - 12, 14, 43, 57, 79, 80, 99\n",
    "    - 92, 43, 74, 66, 30, 12, 1\n",
    "    - 7, 13, 96, 111, 33, 84, 60\n",
    "2. Using one of the sets of numbers from the question above, what would be the second number looked at in a binary search if the number is more than the middle number?\n",
    "3. Which of the following lists can NOT a binary search be used in order to find a targeted value?\n",
    "\n",
    "    a. [\"amy\", \"beverly\", \"christian\", \"devin\"]\n",
    "\n",
    "    b. [-1, 2, 6, 9, 19]\n",
    "\n",
    "    c. [3, 2, 8, 12, 99]\n",
    "    \n",
    "    d. [\"xylophone\", \"snowman\", \"snake\", \"doorbell\", \"author\"]"
   ]
  }
 ],
 "metadata": {
  "kernelspec": {
   "display_name": "Python 3.10.6 64-bit",
   "language": "python",
   "name": "python3"
  },
  "language_info": {
   "codemirror_mode": {
    "name": "ipython",
    "version": 3
   },
   "file_extension": ".py",
   "mimetype": "text/x-python",
   "name": "python",
   "nbconvert_exporter": "python",
   "pygments_lexer": "ipython3",
   "version": "3.10.6"
  },
  "orig_nbformat": 4,
  "vscode": {
   "interpreter": {
    "hash": "b0fa6594d8f4cbf19f97940f81e996739fb7646882a419484c72d19e05852a7e"
   }
  }
 },
 "nbformat": 4,
 "nbformat_minor": 2
}
