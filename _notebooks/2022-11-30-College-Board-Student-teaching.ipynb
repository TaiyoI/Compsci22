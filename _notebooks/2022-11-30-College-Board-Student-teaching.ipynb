{
 "cells": [
  {
   "cell_type": "markdown",
   "metadata": {},
   "source": [
    "# College board teaching\n",
    "This is the college board Jupyter file I am using to take notes on the different student teachers.\n",
    "- title: \"APCSP Student Teaching\"\n",
    "- description: APCSP Student teaching\n",
    "- toc: true\n",
    "- comments: true\n",
    "- layout: post\n",
    "- author: Taiyo Iwazaki\n",
    "- tags: [Teaching, Markdown]\n",
    "\n",
    "\n",
    "------"
   ]
  },
  {
   "cell_type": "markdown",
   "metadata": {},
   "source": [
    "\n",
    "\n",
    "## Unit 3 Section 1-2 Notes\n",
    "\n",
    " * A variable is an abstraction inside a program that holds a value, where each variable has associated data storage that represents a single value at a time (However, if the value is a collection type such as a list, then the value can contain multiple values).\n",
    " * Variables typically have meaningful names that helps with the overall organization of the code and understanding of what is being represented by the variables\n",
    " * Some programming languages provide a variety of methods to represent data, which are referenced using variables 9Booleans, numbers, lists, and strings)\n",
    " * One form of a value is better suited for representation than another.\n",
    "\n",
    "## Units 3 section 1-2 Hacks\n",
    "\n",
    "Questions (College Board's Essential Knowledge):\n",
    "1. What exactly IS a variable?\n",
    "\n",
    "<mark>A variable is an abstraction inside a program that holds a value, where each variable has associated data storage that</mark>\n",
    "\n",
    "2. What is the best data type to represent someone's dog's name? \n",
    "\n",
    "<mark>A string</mark>\n",
    "\n",
    "3. Why is it important to give variables specific names before containing values?\n",
    "\n",
    "<mark>So you can call them whilst writing code.</mark>\n",
    "\n",
    "4. What is the best way to represent someone's phone number?\n",
    "\n",
    "<mark>You would use a string because you are not using \n",
    "the numbers of the phone number to compute anything.</mark>\n",
    "\n",
    "- In your **own** words, briefly explain by writing down what an assignment operator is\n",
    "\n",
    "<mark>An Assignment operator is essentially the equal sign in coding.</mark>\n",
    "\n",
    "- In Collegeboard pseudocode, what symbol is used to assign values to variables?\n",
    "\n",
    "<mark>\"<--\"</mark>\n",
    "\n",
    "- A variable, x, is initially given a value of 15. Later on, the value for x is changed to 22. If you print x, would the command display 15 or 22?\n",
    "\n",
    "<mark>The command would display 22.</mark>\n",
    "\n",
    "\n",
    "* What is a list?\n",
    "\n",
    "<mark>a list is a sequence of elements with each element being a variable.</mark>\n",
    "\n",
    "* What is an element\n",
    "\n",
    "<mark>elements are the items inside a list</mark>\n",
    "\n",
    "* What is an easy way to reference the elements in a list or string?\n",
    "\n",
    "<mark>Using print</mark>\n",
    "\n",
    "* What is an example of a string?\n",
    "\n",
    "<mark>A phone number</mark>\n",
    "\n",
    "* Create a list with indices \n",
    "* Index a part of the list that you created.\n",
    "* Try to index from the end \n",
    "\n",
    "\n",
    "\n"
   ]
  },
  {
   "cell_type": "code",
   "execution_count": 3,
   "metadata": {},
   "outputs": [
    {
     "name": "stdout",
     "output_type": "stream",
     "text": [
      "Luna\n",
      "Ethan\n"
     ]
    }
   ],
   "source": [
    "NamesList = [\"Taiyo\", \"Luna\", \"Parav\", \"Ethan\"]\n",
    "print(NamesList[1])\n",
    "print(NamesList[3])"
   ]
  },
  {
   "cell_type": "markdown",
   "metadata": {},
   "source": [
    "The following code is incomplete. Its intended purpose is to increase three numbers, all of which ask for user input, by an amount specified the user. The input code is abstracted, but the actual logic isn’t connected to the abstraction."
   ]
  },
  {
   "cell_type": "code",
   "execution_count": 5,
   "metadata": {},
   "outputs": [
    {
     "name": "stdout",
     "output_type": "stream",
     "text": [
      "User submitted numbers [1, 1, 1]\n",
      "Plus 1\n",
      "Result:  [2, 2, 2]\n"
     ]
    }
   ],
   "source": [
    "num1=input(\"Input a number. \")\n",
    "num2=input(\"Input a number. \")\n",
    "num3=input(\"Input a number. \")\n",
    "add=input(\"How much would you like to add? \")\n",
    "\n",
    "# Add code in the space below\n",
    "\n",
    "numlist = [int(num1), int(num2), int(num3)]\n",
    "print(\"User submitted numbers\", numlist)\n",
    "print(\"Plus \" + add)\n",
    "\n",
    "# The following is the code that adds the inputted addend to the other numbers. It is hidden from the user.\n",
    "\n",
    "for i in range (len(numlist)):\n",
    "    numlist[i-1] += int(add)\n",
    "\n",
    "print(\"Result: \", numlist)1"
   ]
  },
  {
   "cell_type": "markdown",
   "metadata": {},
   "source": [
    "![image](https://user-images.githubusercontent.com/111478625/204657704-3dbf773e-630f-409a-a47e-20610717740d.png)\n",
    "\n",
    "![Screenshot 2022-11-29 at 2 01 23 PM](https://user-images.githubusercontent.com/111478625/204657920-eb45745b-5257-4fea-9027-eb4c36cd92b8.png)\n",
    "\n",
    "\n",
    "–UPDATE: fixed Steven’s hack, got 0.18/0.20 on Nathan’s hack, got 0.15/0.20 on Noor’s hack, full credit for Ederick’s hack (leniency).– Didn’t do Noor’s or Steven’s hacks and got 0.1 on Nathan’s hacks\n",
    "\n",
    "<mark>0.93/1</mark>\n",
    "\n",
    "---------\n",
    "\n",
    "## Unit 3 Section 3-4 Notes\n",
    "\n",
    "- An algorithm is a finite set of instruction that accomplish a task, it can be expressed by natural language, diagrams, and various other ways.\n",
    "\n",
    "- Sequencing, selection, and iteration.\n",
    "\n",
    "- Every algorithm can be created by a mixture of sequencing, selection, and iteration\n",
    "\n",
    "## Unit 3 Section 3-4 Hacks\n",
    "- You will describe the different parts of an algorithm, sequencing, selection, and iteration in the image below. \n",
    "- sequencing: <mark>The order of how to do a process</mark>\n",
    "- Selection: <mark>Allows an algorithm to make a decision based on the status if a condition is met</mark>\n",
    "- Iteration: <mark>A loop of doing something again and again.</mark>\n",
    "\n",
    "num1 = 5\n",
    "num2 = num1 * 3\n",
    "num3 = num2 / num1 * (9 % 2) * 4\n",
    "result = (num3 % num1 + num2) % num3 * 3 / 5\n",
    "\n",
    "<mark> The Answer to this algorithmic expression is 3</mark>"
   ]
  },
  {
   "cell_type": "markdown",
   "metadata": {},
   "source": [
    " **HACK for 3.3! CROSS WORD PUZZLE!**\n",
    "\n",
    "![crossword][def]\n",
    "\n",
    "[def]: /Tea_Lounge/images/cw.png\n",
    "\n",
    "example of how to do it in your blog:\n",
    "\n",
    "7 across - Baloney\n",
    "\n",
    "**Answers for the crossword puzzle**\n",
    "\n",
    "1. Iteration\n",
    "2. Selection\n",
    "3. Sequence\n",
    "\n",
    "![MCquiz](https://user-images.githubusercontent.com/111478625/205156200-ea927478-262b-42f3-a796-16b9b37a9da0.png )\n",
    "\n"
   ]
  },
  {
   "cell_type": "markdown",
   "metadata": {},
   "source": [
    "0.9/1 on the hacks for this section"
   ]
  },
  {
   "cell_type": "markdown",
   "metadata": {},
   "source": [
    "------\n",
    "\n",
    "## Hacks sections 5-6\n",
    "\n",
    "- Explain in your own words what each logical operator does\n",
    "1. Not: Not displays the exact opposite of whatever data is inputted\n",
    "2. And: And can help determine if two conditions are met\n",
    "3. Or: Can help determine if one of the conditions is met\n",
    "\n",
    "- Code your own scenario that makes sense for each logical operator\n"
   ]
  },
  {
   "cell_type": "code",
   "execution_count": 1,
   "metadata": {},
   "outputs": [
    {
     "name": "stdout",
     "output_type": "stream",
     "text": [
      "True\n"
     ]
    }
   ],
   "source": [
    "# Not\n",
    "Running = False\n",
    "result = not(Running)\n",
    "print(result)"
   ]
  },
  {
   "cell_type": "code",
   "execution_count": 5,
   "metadata": {},
   "outputs": [
    {
     "name": "stdout",
     "output_type": "stream",
     "text": [
      "You Rich\n"
     ]
    }
   ],
   "source": [
    "#And\n",
    "Money = 1000\n",
    "Coins = 100\n",
    "if Money >= 100 and Coins > 20:\n",
    "    print(\"You Rich\")"
   ]
  },
  {
   "cell_type": "code",
   "execution_count": 6,
   "metadata": {},
   "outputs": [
    {
     "name": "stdout",
     "output_type": "stream",
     "text": [
      "You Broke\n"
     ]
    }
   ],
   "source": [
    "#Or\n",
    "Money = 1\n",
    "Coins = 11\n",
    "if Money <= 0 or Coins < 20:\n",
    "    print(\"You Broke\")"
   ]
  },
  {
   "cell_type": "markdown",
   "metadata": {},
   "source": [
    "\n",
    "- 1 point for defining all the key terms in your own words. 0.5 points if you use examples that show you truly understand it.\n",
    "1. Selection: A piece of code that is determined by the output of true/false\n",
    "2. Algorithm: a process or set of rules to be followed in calculations \n",
    "3. Conditional Statement / If-Statement:  a set of rules performed if a certain condition is met\n",
    "\n",
    "- 1 point for writing a program that uses binary conditional logic. 0.5 points if it is original and shows complexity\n"
   ]
  },
  {
   "cell_type": "code",
   "execution_count": 7,
   "metadata": {
    "vscode": {
     "languageId": "javascript"
    }
   },
   "outputs": [
    {
     "name": "stdout",
     "output_type": "stream",
     "text": [
      "15 is odd\n"
     ]
    }
   ],
   "source": [
    "x = 15\n",
    "\n",
    "if x % 2 == 0:\n",
    "    print(x, \"is even\")\n",
    "else:\n",
    "    print(x, \"is odd\")"
   ]
  },
  {
   "cell_type": "markdown",
   "metadata": {},
   "source": [
    "- 1 extra point for each challenge that you program or pair program. \n",
    "- 0.5 points for your review ticket looking nice, or you convincing me that it does.\n",
    "- 1 point for each and any extra work you do that helps show your understanding of conditionals."
   ]
  },
  {
   "cell_type": "markdown",
   "metadata": {},
   "source": [
    "## Hacks\n",
    "- Create 3 different flow charts representing nested statements and transfer them into code.\n",
    "- Create a piece of code that displays four statements instead of three. Try to do more if you can.\n",
    "- Make piece of code that gives three different recommendations for possible classes to take at a school based on two different conditions. These conditions could be if the student likes STEM or not."
   ]
  },
  {
   "cell_type": "markdown",
   "metadata": {},
   "source": [
    "![](https://user-images.githubusercontent.com/111478625/206028199-ca1dcddd-9ee3-4ac7-83df-174e05757cac.png)\n",
    "\n",
    "![](https://user-images.githubusercontent.com/111478625/206028230-04a0797f-e789-44d1-8357-3d6115f316e6.png)\n",
    "![](https://user-images.githubusercontent.com/111478625/206028523-fd732aa4-053d-4029-91f9-2872a0e919cc.png)\n"
   ]
  },
  {
   "cell_type": "code",
   "execution_count": 8,
   "metadata": {},
   "outputs": [
    {
     "name": "stdout",
     "output_type": "stream",
     "text": [
      "wake up\n",
      "it is the afternoon\n"
     ]
    }
   ],
   "source": [
    "day = True\n",
    "night = False\n",
    "\n",
    "if day == True:\n",
    "    print(\"wake up\")\n",
    "if night == True:\n",
    "    print(\"sleep\")\n",
    "else: \n",
    "    print(\"it is the afternoon\")"
   ]
  },
  {
   "cell_type": "markdown",
   "metadata": {},
   "source": [
    "## Units 3.9 and 3.11 Notes\n",
    "---\n",
    "<bold>Three main components of an algorithm</bold>\n",
    "1. Selection\n",
    "2. Sequence\n",
    "3. Iteration\n",
    "\n",
    "- Two pieces of code that look similar don't always produce the same things.\n",
    "- make notes in code\n",
    "---\n",
    "<bold>developing algorithms</bold>\n",
    "\n",
    "- when creating an algorithm, it is good to outline its process before coding\n",
    "- it ensures that it is sequenced correctly\n",
    "\n",
    "---\n",
    "\n"
   ]
  },
  {
   "cell_type": "markdown",
   "metadata": {},
   "source": [
    "## Units 3.9 and 3.11 Hacks\n",
    "\n",
    "- why is it important to know that algorithms that look different can do the same thing and that algorithms that look the same might have different results?(0.15)\n",
    "\n",
    "This is because when you are programming, sometimes code can produce different results which is sub-optimal for you.\n",
    "\n",
    "- for the converted conditional to boolean conversion(0.10)\n",
    "\n",
    "\n",
    "- total: 0.25"
   ]
  },
  {
   "cell_type": "code",
   "execution_count": 9,
   "metadata": {},
   "outputs": [
    {
     "name": "stdout",
     "output_type": "stream",
     "text": [
      "Wake up and work\n"
     ]
    }
   ],
   "source": [
    "isnight = False\n",
    "isday = True\n",
    "if isnight == True: \n",
    "        print(\"go to sleep\")\n",
    "\n",
    "else: \n",
    "    if isday == True: \n",
    "        print(\"Wake up and work\")\n"
   ]
  },
  {
   "cell_type": "code",
   "execution_count": 10,
   "metadata": {},
   "outputs": [
    {
     "name": "stdout",
     "output_type": "stream",
     "text": [
      "go eat\n"
     ]
    }
   ],
   "source": [
    "isnight = False\n",
    "isday = True\n",
    "\n",
    "eat = not(isnight) and isday\n",
    "if eat == False:\n",
    "    print (\"dont eat\")\n",
    "if eat == True:\n",
    "    print(\"go eat\")\n"
   ]
  },
  {
   "cell_type": "markdown",
   "metadata": {},
   "source": [
    "- Includes both a flowchart AND natural language\n",
    "![](https://user-images.githubusercontent.com/111478625/206028230-04a0797f-e789-44d1-8357-3d6115f316e6.png)\n",
    "- Working code of the same algorithm\n",
    "- Incorporates selection AND/OR iteration\n",
    "- Make it creative!"
   ]
  },
  {
   "cell_type": "code",
   "execution_count": 15,
   "metadata": {},
   "outputs": [
    {
     "name": "stdout",
     "output_type": "stream",
     "text": [
      "Has good reviews\n",
      "adjust your search\n"
     ]
    }
   ],
   "source": [
    "\n",
    "goodreviews = True\n",
    "afford = False\n",
    "if goodreviews == True:\n",
    "    print(\"Has good reviews\")\n",
    "    if afford and goodreviews == True:\n",
    "        print(\"product is affordable, has good reviews, and you should purchase your product\")\n",
    "if goodreviews == False:\n",
    "    print(\"adjust your search and click on another product\")\n",
    "if afford == False:\n",
    "    print(\"adjust your search\")\n",
    "\n",
    "\n",
    "\n",
    "\n",
    "    \n",
    "    "
   ]
  },
  {
   "cell_type": "code",
   "execution_count": 7,
   "metadata": {},
   "outputs": [
    {
     "name": "stdout",
     "output_type": "stream",
     "text": [
      "I'm thinking of a number between 0 and 100.\n",
      "You guessed 50.\n",
      "Too low\n",
      "Guess a number between 50 and 100.\n",
      "You guessed 30.\n",
      "Too low\n",
      "Guess a number between 30 and 100.\n",
      "You guessed 80.\n",
      "Too low\n",
      "Guess a number between 80 and 100.\n",
      "You guessed 90.\n",
      "You guessed the number in 4 guesses!\n"
     ]
    }
   ],
   "source": [
    "\n",
    "import random\n",
    "\n",
    "#sets variables for the game\n",
    "num_guesses = 0\n",
    "user_guess = -1\n",
    "upper_bound = 100\n",
    "lower_bound = 0\n",
    "\n",
    "#generates a random number\n",
    "number = random.randint(0,100)\n",
    "\n",
    "# print(number)     #for testing purposes\n",
    "\n",
    "print(f\"I'm thinking of a number between 0 and 100.\")\n",
    "\n",
    "#Write a function that gets a guess from the user using input()\n",
    "def guess():\n",
    "    num = input(\"What number?\")\n",
    "    #add something here\n",
    "    return num #add something here \n",
    "\n",
    "#Change the print statements to give feedback on whether the player guessed too high or too low\n",
    "def search(number, guess):\n",
    "    global lower_bound, upper_bound\n",
    "    if int(guess) < int(number):\n",
    "        print(\"Too low\") #change this\n",
    "        lower_bound = guess\n",
    "        return lower_bound, upper_bound\n",
    "    elif int(guess) > int(number):\n",
    "        print(\"Too high\") #change this\n",
    "        upper_bound = guess\n",
    "        return lower_bound, upper_bound\n",
    "    else:\n",
    "        upper_bound, lower_bound = guess, guess\n",
    "        return lower_bound, upper_bound \n",
    "\n",
    "while user_guess != number:\n",
    "    user_guess = guess()\n",
    "    num_guesses += 1\n",
    "    print(f\"You guessed {user_guess}.\")\n",
    "    lower_bound, upper_bound = search(number, user_guess)\n",
    "    if int(upper_bound) == int(number):\n",
    "        break\n",
    "    else:\n",
    "        print(f\"Guess a number between {lower_bound} and {upper_bound}.\")\n",
    "\n",
    "print(f\"You guessed the number in {num_guesses} guesses!\")\n",
    "\n"
   ]
  },
  {
   "cell_type": "markdown",
   "metadata": {},
   "source": [
    "![](https://user-images.githubusercontent.com/111478625/206035256-d5a229c4-19cc-49fb-9230-04a40125e932.png)\n"
   ]
  },
  {
   "attachments": {},
   "cell_type": "markdown",
   "metadata": {},
   "source": [
    "1. calculate the middle index and create a binary tree for each of these lists\n",
    "    - 12, 14, 43, 57, 79, 80, 99\n",
    "    - 92, 43, 74, 66, 30, 12, 1\n",
    "    - 7, 13, 96, 111, 33, 84, 60\n"
   ]
  },
  {
   "cell_type": "code",
   "execution_count": 6,
   "metadata": {},
   "outputs": [
    {
     "name": "stdout",
     "output_type": "stream",
     "text": [
      "3\n",
      "57\n"
     ]
    }
   ],
   "source": [
    "index = [12, 14, 43, 57, 79, 80, 99]\n",
    "index.sort()\n",
    "middle = int(len(index) / 2) \n",
    "print(middle)\n",
    "print(index[middle])"
   ]
  },
  {
   "cell_type": "code",
   "execution_count": 5,
   "metadata": {},
   "outputs": [
    {
     "name": "stdout",
     "output_type": "stream",
     "text": [
      "3\n",
      "43\n"
     ]
    }
   ],
   "source": [
    "index =[92, 43, 74, 66, 30, 12, 1]\n",
    "index.sort()\n",
    "middle = int(len(index) / 2) \n",
    "print(middle)\n",
    "print(index[middle])"
   ]
  },
  {
   "cell_type": "code",
   "execution_count": 4,
   "metadata": {},
   "outputs": [
    {
     "name": "stdout",
     "output_type": "stream",
     "text": [
      "3\n",
      "60\n"
     ]
    }
   ],
   "source": [
    "index = [7, 13, 96, 111, 33, 84, 60]\n",
    "index.sort()\n",
    "middle = int(len(index) / 2) \n",
    "print(middle)\n",
    "print(index[middle])"
   ]
  },
  {
   "attachments": {},
   "cell_type": "markdown",
   "metadata": {},
   "source": [
    "![](https://user-images.githubusercontent.com/111478625/206614155-50aa8c59-49cf-4115-962f-02d88dbde74a.png)\n",
    "![](https://user-images.githubusercontent.com/111478625/206614165-23fe6ba2-4ec4-4183-a9a7-b57511282374.png)\n",
    "![](https://user-images.githubusercontent.com/111478625/206614176-e2c52a30-7518-49e4-b723-790560c0235c.png)"
   ]
  },
  {
   "attachments": {},
   "cell_type": "markdown",
   "metadata": {},
   "source": [
    "2. Using one of the sets of numbers from the question above, what would be the second number looked at in a binary search if the number is more than the middle number?\n",
    "\n",
    "Set 2: 74\n",
    "\n",
    "3. Which of the following lists can NOT a binary search be used in order to find a targeted value?\n",
    "\n",
    "    a. [\"amy\", \"beverly\", \"christian\", \"devin\"]\n",
    "\n",
    "    b. [-1, 2, 6, 9, 19]\n",
    "\n",
    "    c. [3, 2, 8, 12, 99]\n",
    "    \n",
    "    d. [\"xylophone\", \"snowman\", \"snake\", \"doorbell\", \"author\"]\n",
    "\n",
    "    C because it is not sorted properly"
   ]
  },
  {
   "attachments": {},
   "cell_type": "markdown",
   "metadata": {},
   "source": [
    "## Units 3.12 and 3.13 Notes\n",
    "---\n",
    "Essential Knowledge:\n",
    "- A <font color=\"#ffffc2\" style=\"font-weight: bold\">procedure</font> is a named set of instructions that can take in parameters and return values.\n",
    "    - May be called \"method\" or \"function\" in different programming languages.\n",
    "- <font color=\"#ffffc2\" style=\"font-weight: bold\">Parameters</font> are independent variables used in the procedure to produce a result. It allows a procedure to execute without initially knowing specific input values.\n",
    "- Procedures can be classified as sequencing, selection, and iteration. How?\n",
    "\n",
    "Example:\n",
    "- What is the procedure's name?\n",
    "- What are the parameters?\n",
    "- What did the procedure return?\n",
    "---\n",
    "- To determine the result of a procedure or any code, you must follow the code line by line and see what each one does\n",
    "\n",
    "- Using syntax, you can determine the result by\n",
    "\n",
    "   - function parameters\n",
    "   - return value and statements\n",
    "\n",
    "\n",
    "- A return statement exits a function and instructs python to continue executing the program and to return a certain value\n",
    "\n",
    "- Value can be string, a tuple, or any other type that is being sent back to the main program \n",
    "---\n",
    "- **Modularity** - the practice of breaking a complex program into smaller, independent parts or modules that can be used and reused in different parts of the program\n",
    "- **Abstraction** - the practice of hiding the details of how a particular code or system works and exposing only the essential features or functions that are necessary for other parts of the program to use\n",
    "- **Duplication** - having multiple duplicate code blocks, often decreasing readability and efficiency\n",
    "- **Logic** - the sequence of steps and operations that a computer follows to execute a program, including the specific instructions and decision-making processes built into the code.\n",
    "---\n",
    "\n",
    "- <font color=\"#ffffc2\" style=\"font-weight: bold\">Procedure</font> - a module of code that is created to complete a certain task, this is basically a function\n",
    "- <font color=\"#ffffc2\" style=\"font-weight: bold\">Procedure Name</font> - the name that is given to a function/procedure\n",
    "- <font color=\"#ffffc2\" style=\"font-weight: bold\">Parameters</font> - a variable that is used in a function to allow for data to be imported into a function\n",
    "- <font color=\"#ffffc2\" style=\"font-weight: bold\">Arguments</font> - a way to provide information to a function, usually defined outside a function and then imported into a function with parameters\n",
    "\n",
    "- parameters being used to manage complexity\n",
    "  - parameters storing variables\n",
    "  - parameters storing arguments\n",
    "- calling functions with procedure names\n",
    "  - choosing procedure names\n",
    "  - calling procedures in python and javascript\n",
    "\n",
    "  ```bash\n",
    "def function(a,b): # function is defined\n",
    "  print(a+b) # prints output of variables\n",
    "\n",
    "function(1,2) # one instance that it can be used\n",
    "function(2,3) # another instance\n",
    "```\n",
    "\n",
    "```\n",
    "3\n",
    "5\n",
    "---\n",
    "\n",
    "\n"
   ]
  },
  {
   "attachments": {},
   "cell_type": "markdown",
   "metadata": {},
   "source": [
    "## Hacks 3.12 3.13\n",
    "\n",
    "1. Define **procedure** and **parameter** in your own words\n",
    "Procedures or methods are basically the instructions of a function but are assigned to a variable. Unlike assigning a singular item to a class, you assign a set of instructions. Parameters are the part of a function that include data which allow the function to work.\n",
    "\n",
    "Here is an example of both being put into use\n",
    "```python\n",
    "\n",
    "num1=2\n",
    "num2=3\n",
    "\n",
    "def addition(num1, num2): #the procedure is addition, the parameters are num1 and num2\n",
    "    sum = num1 + num2\n",
    "    return sum\n",
    "\n",
    "print(addition(num1, num2)) #here we are calling the function addition and printing it \n",
    "```\n",
    "```\n",
    "5 #this is the output\n",
    "```\n",
    "\n",
    "2. Paste a **screenshot** of completion of the quiz\n",
    "\n",
    "![](https://user-images.githubusercontent.com/111478625/206569143-9cd8228f-841c-4725-a1fd-162e3ea64390.png)\n",
    "\n",
    "3. Define **Return Values** and **Output Parameters** in your own words\n",
    "Return values are the output of the procedure... It basically \"returns\" what the procedure does. \n",
    "Output Parameters are essentially the same as regular parameters \n",
    "\n",
    "```python\n",
    "def addition(num1, num2): #the procedure is addition, the parameters are num1 and num2\n",
    "    sum = num1 + num2\n",
    "    return sum #this is the return function\n",
    "```\n",
    "```python\n",
    "5 #this is the return output\n",
    "```\n",
    "\n",
    "4. Code a **procedure** that finds the square root of any given number. (make sure to call and return the function)\n",
    "\n",
    "\n"
   ]
  },
  {
   "cell_type": "code",
   "execution_count": 12,
   "metadata": {},
   "outputs": [],
   "source": [
    "import math\n",
    "\n",
    "x = 9 #parameter\n",
    "\n",
    "def sqrt(x):\n",
    "    return math.sqrt(x)\n",
    "\n",
    "print(sqrt(x)) #calling the function and printing\n",
    "\n"
   ]
  },
  {
   "attachments": {},
   "cell_type": "markdown",
   "metadata": {},
   "source": [
    "### Topic 3.13 (3.B):\n",
    "1. Explain, in your own words, why abstracting away your program logic into separate, modular functions is effective\n",
    "\n",
    "Abstracting away your program logic into separate, modular functions is effective because it helps to reduce code duplication and it is easier to manage in general.\n",
    "\n",
    "2. Create a procedure that uses other sub-procedures (other functions) within it and explain why the abstraction was needed (conciseness, shared behavior, etc.)\n"
   ]
  },
  {
   "cell_type": "code",
   "execution_count": 11,
   "metadata": {},
   "outputs": [],
   "source": [
    "x = 4\n",
    "y = 3\n",
    "#find the solution to a simple arithmetic equation: 5(x+y)\n",
    "\n",
    "def mathematics(x, y):\n",
    "    sum = x + y\n",
    "    return sum/5\n",
    "\n",
    "print(mathematics(x, y))\n",
    "\n",
    "\n",
    "\n",
    "\n"
   ]
  },
  {
   "attachments": {},
   "cell_type": "markdown",
   "metadata": {},
   "source": [
    "Abstraction was necessary because it helped to reduce the clutter of the function. If I were to take sum and make another function dividing sum by 5, I would need make a block of code and I wouldn't be able to call it again when I needed to."
   ]
  },
  {
   "attachments": {},
   "cell_type": "markdown",
   "metadata": {},
   "source": [
    "3. Add another layer of abstraction to the word counter program (HINT: create a function that can count the number of words starting with ANY character in a given string -- how can we leverage parameters for this?)\n",
    "\n",
    "\n",
    "### Topic 3.13 (3.C):\n",
    "1. Define <font color=\"#ffffc2\" style=\"font-weight: bold\">procedure names</font> and <font color=\"#ffffc2\" style=\"font-weight: bold\">arguments</font> in your own words.\n",
    "2. Code some <font color=\"#ffffc2\" style=\"font-weight: bold\">procedures</font> that use <font color=\"#ffffc2\" style=\"font-weight: bold\">arguments</font> and <font color=\"#ffffc2\" style=\"font-weight: bold\">parameters</font> with Javascript and HTML (make sure they are interactive on your hacks page, allowing the user to input numbers and click a button to produce an output)\n",
    "  - Add two numbers\n",
    "  - Subtract two numbers\n",
    "  - Multiply two numbers\n",
    "  - Divide two numbers\n",
    "  -idk"
   ]
  },
  {
   "cell_type": "code",
   "execution_count": 13,
   "metadata": {},
   "outputs": [],
   "source": [
    " # this function takes a string as input and returns a list of words, where each word\n",
    "# is a separate element in the list\n",
    "def split_string(s):\n",
    "    # use the split() method to split the string into a list of words\n",
    "    words = s.split(\" \")\n",
    "\n",
    "\t# initialize a new list to hold all non-empty strings\n",
    "    new_words = []\n",
    "    for word in words:\n",
    "        if word != \"\":\n",
    "            # add all non-empty substrings of `words` to `new_words`\n",
    "            new_words.append(word)\n",
    "    \n",
    "    return words\n",
    "\n",
    "# this function takes a list of words as input and returns the number of words\n",
    "# that start with the given letter (case-insensitive)\n",
    "def count_words_starting_with_letter(words, letter):\n",
    "    count = 0\n",
    "    \n",
    "    # loop through the list of words and check if each word starts with the given letter\n",
    "    for word in words:\n",
    "        # use the lower() method to make the comparison case-insensitive\n",
    "        if word.lower().startswith(letter):\n",
    "            count += 1\n",
    "    \n",
    "    return count\n",
    "\n",
    "# this function takes a string as input and returns the number of words that start with 'a'\n",
    "def count_words_starting_with_a_in_string(s):\n",
    "    # use the split_string() function to split the input string into a list of words\n",
    "    words = split_string(s)\n",
    "    \n",
    "    # use the count_words_starting_with_letter() function to count the number of words\n",
    "    # that start with 'a' in the list of words\n",
    "    count = count_words_starting_with_letter(words, \"a\")\n",
    "    \n",
    "    return count\n",
    "\n",
    "# see above\n",
    "def count_words_starting_with_d_in_string(s):\n",
    "    words = split_string(s)\n",
    "    count = count_words_starting_with_letter(words, \"d\")\n",
    "    return count\n",
    "\n",
    "# example usage:\n",
    "s = \"   This is  a  test  string! Don't you think this is cool? \"\n",
    "a_count = count_words_starting_with_a_in_string(s)\n",
    "d_count = count_words_starting_with_d_in_string(s)\n",
    "print(\"Words starting with a:\", a_count)\n",
    "print(\"Words starting with d:\", d_count)"
   ]
  },
  {
   "attachments": {},
   "cell_type": "markdown",
   "metadata": {},
   "source": [
    "1. Define <font color=\"#ffffc2\" style=\"font-weight: bold\">procedure names</font> and <font color=\"#ffffc2\" style=\"font-weight: bold\">arguments</font> in your own words.\n",
    "\n",
    "Procedure names are the names given to a method to produce an output for example: \n",
    "\n",
    "Arguments are basically the data that is inputted into the function for example: \n",
    "\n",
    "```python\n",
    "\n",
    "x = 1 # x and y are parameters that will be inputted into the procedure.\n",
    "y = 2\n",
    "\n",
    "def matematicas(x, y): #matematicas would be the procedure name.\n",
    "    addition = x + y\n",
    "    return addition \n",
    "\n",
    "print(matematicas(x,y))\n",
    "\n",
    "3.0\n",
    "```\n",
    "\n",
    "2. Code some <font color=\"#ffffc2\" style=\"font-weight: bold\">procedures</font> that use <font color=\"#ffffc2\" style=\"font-weight: bold\">arguments</font> and <font color=\"#ffffc2\" style=\"font-weight: bold\">parameters</font> with Javascript and HTML (make sure they are interactive on your hacks page, allowing the user to input numbers and click a button to produce an output)\n",
    "  - Add two numbers\n",
    "  - Subtract two numbers\n",
    "  - Multiply two numbers\n",
    "  - Divide two numbers\n",
    "\n",
    "\n",
    "<button type=\"button\" onclick=\"addition(x,y)\">addition</button>\n",
    "<p id = \"output\"></p>\n",
    "<script>\n",
    "  var x = 1\n",
    "  var y = 2\n",
    "  function addition(x,y) {\n",
    "    document.getElementById(\"output\").innerHTML = x + y\n",
    "    }\n",
    "</script>\n",
    "\n",
    "<button type=\"button\" onclick=\"subtraction(x,y)\">subtraction</button>\n",
    "<p id = \"output2\"></p>\n",
    "<script>\n",
    "  var x = 1\n",
    "  var y = 2\n",
    "  function subtraction(x,y) {\n",
    "    document.getElementById(\"output2\").innerHTML = x - y\n",
    "    }\n",
    "</script>\n",
    "\n",
    "<button type=\"button\" onclick=\"divide(x,y)\">divide</button>\n",
    "<p id = \"output3\"></p>\n",
    "<script>\n",
    "  var x = 1\n",
    "  var y = 2\n",
    "  function divide(x,y) {\n",
    "    document.getElementById(\"output3\").innerHTML = x/y\n",
    "    }\n",
    "</script>\n",
    "\n",
    "<button type=\"button\" onclick=\"multiply(x,y)\">multiply</button>\n",
    "<p id = \"output4\"></p>\n",
    "<script>\n",
    "  var x = 1\n",
    "  var y = 2\n",
    "  function multiply(x,y) {\n",
    "    document.getElementById(\"output4\").innerHTML = x * y\n",
    "    }\n",
    "</script>\n",
    "\n"
   ]
  },
  {
   "attachments": {},
   "cell_type": "markdown",
   "metadata": {},
   "source": [
    "---\n",
    "here is the extra credit\n"
   ]
  },
  {
   "cell_type": "code",
   "execution_count": 14,
   "metadata": {},
   "outputs": [],
   "source": [
    "import math\n",
    "\n",
    "def hypotenuse(leg1, leg2):\n",
    "    # notice we're using this <var> * <var> syntax multiple times?\n",
    "    # this has multiple drawbacks:\n",
    "    # - it's repetitive and makes the code longer\n",
    "    # - if we wanted to change the operator being \n",
    "    #   applied to `leg1` and `leg2`, we'd have to do it twice!\n",
    "    leg1_squared = leg1 * leg1\n",
    "    leg2_squared = leg2 * leg2\n",
    "    return math.sqrt(leg1_squared + leg2_squared)\n",
    "\n",
    "## VERSUS ##\n",
    "\n",
    "# this works, but let's try to write the \"squared\" variable assignment statements more concisely....\n",
    "def square(a):\n",
    "    return a * a\n",
    "\n",
    "def hypotenuse_abstracted(leg1, leg2):\n",
    "    # not only is this shorter, but we can now:\n",
    "    # - better understand the code at a glance--we know exactly \n",
    "    #   what `square` should do\n",
    "    # - change the operator in a single place (`square`) rather than\n",
    "    #   multiple times within this hypotenuse function\n",
    "    leg1_squared = square(leg1)\n",
    "    leg2_squared = square(leg2)\n",
    "    return math.sqrt(leg1_squared + leg2_squared)\n",
    "\n",
    "## EXTRA CHALLENGE ##\n",
    "# is it possible to write the `hypotenuse` function in a single line?\n",
    "def hypotenuse_abstracted2(leg1, leg2):\n",
    "    return math.sqrt(square(leg1)+square(leg2))\n",
    "  \n",
    "print(hypotenuse_abstracted2(3,4)) \n",
    "\n",
    "assert hypotenuse(3, 4) == hypotenuse_abstracted(3, 4) == 5"
   ]
  }
 ],
 "metadata": {
  "kernelspec": {
   "display_name": "base",
   "language": "python",
   "name": "python3"
  },
  "language_info": {
   "codemirror_mode": {
    "name": "ipython",
    "version": 3
   },
   "file_extension": ".py",
   "mimetype": "text/x-python",
   "name": "python",
   "nbconvert_exporter": "python",
   "pygments_lexer": "ipython3",
   "version": "3.9.12"
  },
  "orig_nbformat": 4,
  "vscode": {
   "interpreter": {
    "hash": "a7fbbb54f4c181edc972ed0306a01439bd91c43236a2d6fefc317f72e31b9e0c"
   }
  }
 },
 "nbformat": 4,
 "nbformat_minor": 2
}
