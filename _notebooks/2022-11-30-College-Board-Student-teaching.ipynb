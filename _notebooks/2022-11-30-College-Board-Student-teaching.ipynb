{
 "cells": [
  {
   "cell_type": "markdown",
   "metadata": {},
   "source": [
    "# College board teaching\n",
    "This is the college board Jupyter file I am using to take notes on the different student teachers.\n",
    "- title: \"APCSP Student Teaching\"\n",
    "- description: APCSP Student teaching\n",
    "- toc: true\n",
    "- comments: true\n",
    "- layout: post\n",
    "- author: Taiyo Iwazaki\n",
    "- tags: [Teaching, Markdown]\n",
    "\n",
    "\n",
    "------"
   ]
  },
  {
   "cell_type": "markdown",
   "metadata": {},
   "source": [
    "\n",
    "\n",
    "## Unit 3 Section 1-2 Notes\n",
    "\n",
    " * A variable is an abstraction inside a program that holds a value, where each variable has associated data storage that represents a single value at a time (However, if the value is a collection type such as a list, then the value can contain multiple values).\n",
    " * Variables typically have meaningful names that helps with the overall organization of the code and understanding of what is being represented by the variables\n",
    " * Some programming languages provide a variety of methods to represent data, which are referenced using variables 9Booleans, numbers, lists, and strings)\n",
    " * One form of a value is better suited for representation than another.\n",
    "\n",
    "## Units 3 section 1-2 Hacks\n",
    "\n",
    "Questions (College Board's Essential Knowledge):\n",
    "1. What exactly IS a variable?\n",
    "\n",
    "<mark>A variable is an abstraction inside a program that holds a value, where each variable has associated data storage that</mark>\n",
    "\n",
    "2. What is the best data type to represent someone's dog's name? \n",
    "\n",
    "<mark>A string</mark>\n",
    "\n",
    "3. Why is it important to give variables specific names before containing values?\n",
    "\n",
    "<mark>So you can call them whilst writing code.</mark>\n",
    "\n",
    "4. What is the best way to represent someone's phone number?\n",
    "\n",
    "<mark>You would use a string because you are not using \n",
    "the numbers of the phone number to compute anything.</mark>\n",
    "\n",
    "- In your **own** words, briefly explain by writing down what an assignment operator is\n",
    "\n",
    "<mark>An Assignment operator is essentially the equal sign in coding.</mark>\n",
    "\n",
    "- In Collegeboard pseudocode, what symbol is used to assign values to variables?\n",
    "\n",
    "<mark>\"<--\"</mark>\n",
    "\n",
    "- A variable, x, is initially given a value of 15. Later on, the value for x is changed to 22. If you print x, would the command display 15 or 22?\n",
    "\n",
    "<mark>The command would display 22.</mark>\n",
    "\n",
    "\n",
    "* What is a list?\n",
    "\n",
    "<mark>a list is a sequence of elements with each element being a variable.</mark>\n",
    "\n",
    "* What is an element\n",
    "\n",
    "<mark>elements are the items inside a list</mark>\n",
    "\n",
    "* What is an easy way to reference the elements in a list or string?\n",
    "\n",
    "<mark>Using print</mark>\n",
    "\n",
    "* What is an example of a string?\n",
    "\n",
    "<mark>A phone number</mark>\n",
    "\n",
    "* Create a list with indices \n",
    "* Index a part of the list that you created.\n",
    "* Try to index from the end \n",
    "\n",
    "\n",
    "\n"
   ]
  },
  {
   "cell_type": "code",
   "execution_count": 4,
   "metadata": {},
   "outputs": [
    {
     "name": "stdout",
     "output_type": "stream",
     "text": [
      "Luna\n",
      "Ethan\n"
     ]
    }
   ],
   "source": [
    "NamesList = [\"Taiyo\", \"Luna\", \"Parav\", \"Ethan\"]\n",
    "print(NamesList[1])\n",
    "print(NamesList[3])"
   ]
  },
  {
   "cell_type": "markdown",
   "metadata": {},
   "source": [
    "The following code is incomplete. Its intended purpose is to increase three numbers, all of which ask for user input, by an amount specified the user. The input code is abstracted, but the actual logic isn’t connected to the abstraction."
   ]
  },
  {
   "cell_type": "code",
   "execution_count": 6,
   "metadata": {},
   "outputs": [
    {
     "name": "stdout",
     "output_type": "stream",
     "text": [
      "User submitted numbers [4, 4, 4]\n",
      "Plus 4\n",
      "Result:  [8, 8, 8]\n"
     ]
    }
   ],
   "source": [
    "num1=input(\"Input a number. \")\n",
    "num2=input(\"Input a number. \")\n",
    "num3=input(\"Input a number. \")\n",
    "add=input(\"How much would you like to add? \")\n",
    "\n",
    "# Add code in the space below\n",
    "\n",
    "numlist = [int(num1), int(num2), int(num3)]\n",
    "print(\"User submitted numbers\", numlist)\n",
    "print(\"Plus \" + add)\n",
    "\n",
    "# The following is the code that adds the inputted addend to the other numbers. It is hidden from the user.\n",
    "\n",
    "for i in range (len(numlist)):\n",
    "    numlist[i-1] += int(add)\n",
    "\n",
    "print(\"Result: \", numlist)"
   ]
  },
  {
   "cell_type": "markdown",
   "metadata": {},
   "source": [
    "![image](https://user-images.githubusercontent.com/111478625/204657704-3dbf773e-630f-409a-a47e-20610717740d.png)\n",
    "\n",
    "![Screenshot 2022-11-29 at 2 01 23 PM](https://user-images.githubusercontent.com/111478625/204657920-eb45745b-5257-4fea-9027-eb4c36cd92b8.png)\n",
    "\n",
    "---------\n",
    "\n",
    "## Unit 3 Section 3-4 Notes\n",
    "\n",
    "- An algorithm is a finite set of instruction that accomplish a task, it can be expressed by natural language, diagrams, and various other ways.\n",
    "\n",
    "- Sequencing, selection, and iteration.\n",
    "\n",
    "- Every algorithm can be created by a mixture of sequencing, selection, and iteration\n",
    "\n",
    "## Unit 3 Section 3-4 Hacks\n",
    "- You will describe the different parts of an algorithm, sequencing, selection, and iteration in the image below. \n",
    "- sequencing: <mark>The order of how to do a process</mark>\n",
    "- Selection: <mark>Allows an algorithm to make a decision based on the status if a condition is met</mark>\n",
    "- Iteration: <mark>A loop of doing something again and again.</mark>\n",
    "\n",
    "num1 = 5\n",
    "num2 = num1 * 3\n",
    "num3 = num2 / num1 * (9 % 2) * 4\n",
    "result = (num3 % num1 + num2) % num3 * 3 / 5\n",
    "\n",
    "<mark> The Answer to this algorithmic expression is 3</mark>"
   ]
  }
 ],
 "metadata": {
  "kernelspec": {
   "display_name": "Python 3.10.6 64-bit",
   "language": "python",
   "name": "python3"
  },
  "language_info": {
   "codemirror_mode": {
    "name": "ipython",
    "version": 3
   },
   "file_extension": ".py",
   "mimetype": "text/x-python",
   "name": "python",
   "nbconvert_exporter": "python",
   "pygments_lexer": "ipython3",
   "version": "3.10.6"
  },
  "orig_nbformat": 4,
  "vscode": {
   "interpreter": {
    "hash": "b0fa6594d8f4cbf19f97940f81e996739fb7646882a419484c72d19e05852a7e"
   }
  }
 },
 "nbformat": 4,
 "nbformat_minor": 2
}
