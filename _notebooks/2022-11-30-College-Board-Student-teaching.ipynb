{
 "cells": [
  {
   "cell_type": "markdown",
   "metadata": {},
   "source": [
    "# College board teaching\n",
    "This is the college board Jupyter file I am using to take notes on the different student teachers.\n",
    "- title: \"APCSP Student Teaching\"\n",
    "- description: APCSP Student teaching\n",
    "- toc: true\n",
    "- comments: true\n",
    "- layout: post\n",
    "- author: Taiyo Iwazaki\n",
    "- tags: [Teaching, Markdown]\n",
    "\n",
    "\n",
    "------"
   ]
  },
  {
   "cell_type": "markdown",
   "metadata": {},
   "source": [
    "\n",
    "\n",
    "## Unit 3 Section 1-2 Notes\n",
    "\n",
    " * A variable is an abstraction inside a program that holds a value, where each variable has associated data storage that represents a single value at a time (However, if the value is a collection type such as a list, then the value can contain multiple values).\n",
    " * Variables typically have meaningful names that helps with the overall organization of the code and understanding of what is being represented by the variables\n",
    " * Some programming languages provide a variety of methods to represent data, which are referenced using variables 9Booleans, numbers, lists, and strings)\n",
    " * One form of a value is better suited for representation than another.\n",
    "\n",
    "## Units 3 section 1-2 Hacks\n",
    "\n",
    "Questions (College Board's Essential Knowledge):\n",
    "1. What exactly IS a variable?\n",
    "\n",
    "<mark>A variable is an abstraction inside a program that holds a value, where each variable has associated data storage that</mark>\n",
    "\n",
    "2. What is the best data type to represent someone's dog's name? \n",
    "\n",
    "<mark>A string</mark>\n",
    "\n",
    "3. Why is it important to give variables specific names before containing values?\n",
    "\n",
    "<mark>So you can call them whilst writing code.</mark>\n",
    "\n",
    "4. What is the best way to represent someone's phone number?\n",
    "\n",
    "<mark>You would use a string because you are not using \n",
    "the numbers of the phone number to compute anything.</mark>\n",
    "\n",
    "- In your **own** words, briefly explain by writing down what an assignment operator is\n",
    "\n",
    "<mark>An Assignment operator is essentially the equal sign in coding.</mark>\n",
    "\n",
    "- In Collegeboard pseudocode, what symbol is used to assign values to variables?\n",
    "\n",
    "<mark>\"<--\"</mark>\n",
    "\n",
    "- A variable, x, is initially given a value of 15. Later on, the value for x is changed to 22. If you print x, would the command display 15 or 22?\n",
    "\n",
    "<mark>The command would display 22.</mark>\n",
    "\n",
    "\n",
    "* What is a list?\n",
    "\n",
    "<mark>a list is a sequence of elements with each element being a variable.</mark>\n",
    "\n",
    "* What is an element\n",
    "\n",
    "<mark>elements are the items inside a list</mark>\n",
    "\n",
    "* What is an easy way to reference the elements in a list or string?\n",
    "\n",
    "<mark>Using print</mark>\n",
    "\n",
    "* What is an example of a string?\n",
    "\n",
    "<mark>A phone number</mark>\n",
    "\n",
    "* Create a list with indices \n",
    "* Index a part of the list that you created.\n",
    "* Try to index from the end \n",
    "\n",
    "\n",
    "\n"
   ]
  },
  {
   "cell_type": "code",
   "execution_count": 3,
   "metadata": {},
   "outputs": [
    {
     "name": "stdout",
     "output_type": "stream",
     "text": [
      "Luna\n",
      "Ethan\n"
     ]
    }
   ],
   "source": [
    "NamesList = [\"Taiyo\", \"Luna\", \"Parav\", \"Ethan\"]\n",
    "print(NamesList[1])\n",
    "print(NamesList[3])"
   ]
  },
  {
   "cell_type": "markdown",
   "metadata": {},
   "source": [
    "The following code is incomplete. Its intended purpose is to increase three numbers, all of which ask for user input, by an amount specified the user. The input code is abstracted, but the actual logic isn’t connected to the abstraction."
   ]
  },
  {
   "cell_type": "code",
   "execution_count": 5,
   "metadata": {},
   "outputs": [
    {
     "name": "stdout",
     "output_type": "stream",
     "text": [
      "User submitted numbers [1, 1, 1]\n",
      "Plus 1\n",
      "Result:  [2, 2, 2]\n"
     ]
    }
   ],
   "source": [
    "num1=input(\"Input a number. \")\n",
    "num2=input(\"Input a number. \")\n",
    "num3=input(\"Input a number. \")\n",
    "add=input(\"How much would you like to add? \")\n",
    "\n",
    "# Add code in the space below\n",
    "\n",
    "numlist = [int(num1), int(num2), int(num3)]\n",
    "print(\"User submitted numbers\", numlist)\n",
    "print(\"Plus \" + add)\n",
    "\n",
    "# The following is the code that adds the inputted addend to the other numbers. It is hidden from the user.\n",
    "\n",
    "for i in range (len(numlist)):\n",
    "    numlist[i-1] += int(add)\n",
    "\n",
    "print(\"Result: \", numlist)1"
   ]
  },
  {
   "cell_type": "markdown",
   "metadata": {},
   "source": [
    "![image](https://user-images.githubusercontent.com/111478625/204657704-3dbf773e-630f-409a-a47e-20610717740d.png)\n",
    "\n",
    "![Screenshot 2022-11-29 at 2 01 23 PM](https://user-images.githubusercontent.com/111478625/204657920-eb45745b-5257-4fea-9027-eb4c36cd92b8.png)\n",
    "\n",
    "\n",
    "–UPDATE: fixed Steven’s hack, got 0.18/0.20 on Nathan’s hack, got 0.15/0.20 on Noor’s hack, full credit for Ederick’s hack (leniency).– Didn’t do Noor’s or Steven’s hacks and got 0.1 on Nathan’s hacks\n",
    "\n",
    "<mark>0.93/1</mark>\n",
    "\n",
    "---------\n",
    "\n",
    "## Unit 3 Section 3-4 Notes\n",
    "\n",
    "- An algorithm is a finite set of instruction that accomplish a task, it can be expressed by natural language, diagrams, and various other ways.\n",
    "\n",
    "- Sequencing, selection, and iteration.\n",
    "\n",
    "- Every algorithm can be created by a mixture of sequencing, selection, and iteration\n",
    "\n",
    "## Unit 3 Section 3-4 Hacks\n",
    "- You will describe the different parts of an algorithm, sequencing, selection, and iteration in the image below. \n",
    "- sequencing: <mark>The order of how to do a process</mark>\n",
    "- Selection: <mark>Allows an algorithm to make a decision based on the status if a condition is met</mark>\n",
    "- Iteration: <mark>A loop of doing something again and again.</mark>\n",
    "\n",
    "num1 = 5\n",
    "num2 = num1 * 3\n",
    "num3 = num2 / num1 * (9 % 2) * 4\n",
    "result = (num3 % num1 + num2) % num3 * 3 / 5\n",
    "\n",
    "<mark> The Answer to this algorithmic expression is 3</mark>"
   ]
  },
  {
   "cell_type": "markdown",
   "metadata": {},
   "source": [
    " **HACK for 3.3! CROSS WORD PUZZLE!**\n",
    "\n",
    "![crossword][def]\n",
    "\n",
    "[def]: /Tea_Lounge/images/cw.png\n",
    "\n",
    "example of how to do it in your blog:\n",
    "\n",
    "7 across - Baloney\n",
    "\n",
    "**Answers for the crossword puzzle**\n",
    "\n",
    "1. Iteration\n",
    "2. Selection\n",
    "3. Sequence\n",
    "\n",
    "![MCquiz](https://user-images.githubusercontent.com/111478625/205156200-ea927478-262b-42f3-a796-16b9b37a9da0.png )\n",
    "\n"
   ]
  },
  {
   "cell_type": "markdown",
   "metadata": {},
   "source": [
    "0.9/1 on the hacks for this section"
   ]
  },
  {
   "cell_type": "markdown",
   "metadata": {},
   "source": [
    "------\n",
    "\n",
    "## Hacks sections 5-6\n",
    "\n",
    "- Explain in your own words what each logical operator does\n",
    "1. Not: Not displays the exact opposite of whatever data is inputted\n",
    "2. And: And can help determine if two conditions are met\n",
    "3. Or: Can help determine if one of the conditions is met\n",
    "\n",
    "- Code your own scenario that makes sense for each logical operator\n"
   ]
  },
  {
   "cell_type": "code",
   "execution_count": 1,
   "metadata": {},
   "outputs": [
    {
     "name": "stdout",
     "output_type": "stream",
     "text": [
      "True\n"
     ]
    }
   ],
   "source": [
    "# Not\n",
    "Running = False\n",
    "result = not(Running)\n",
    "print(result)"
   ]
  },
  {
   "cell_type": "code",
   "execution_count": 5,
   "metadata": {},
   "outputs": [
    {
     "name": "stdout",
     "output_type": "stream",
     "text": [
      "You Rich\n"
     ]
    }
   ],
   "source": [
    "#And\n",
    "Money = 1000\n",
    "Coins = 100\n",
    "if Money >= 100 and Coins > 20:\n",
    "    print(\"You Rich\")"
   ]
  },
  {
   "cell_type": "code",
   "execution_count": 6,
   "metadata": {},
   "outputs": [
    {
     "name": "stdout",
     "output_type": "stream",
     "text": [
      "You Broke\n"
     ]
    }
   ],
   "source": [
    "#Or\n",
    "Money = 1\n",
    "Coins = 11\n",
    "if Money <= 0 or Coins < 20:\n",
    "    print(\"You Broke\")"
   ]
  },
  {
   "cell_type": "markdown",
   "metadata": {},
   "source": [
    "\n",
    "- 1 point for defining all the key terms in your own words. 0.5 points if you use examples that show you truly understand it.\n",
    "1. Selection: A piece of code that is determined by the output of true/false\n",
    "2. Algorithm: a process or set of rules to be followed in calculations \n",
    "3. Conditional Statement / If-Statement:  a set of rules performed if a certain condition is met\n",
    "\n",
    "- 1 point for writing a program that uses binary conditional logic. 0.5 points if it is original and shows complexity\n"
   ]
  },
  {
   "cell_type": "code",
   "execution_count": 7,
   "metadata": {},
   "outputs": [
    {
     "name": "stdout",
     "output_type": "stream",
     "text": [
      "15 is odd\n"
     ]
    }
   ],
   "source": [
    "x = 15\n",
    "\n",
    "if x % 2 == 0:\n",
    "    print(x, \"is even\")\n",
    "else:\n",
    "    print(x, \"is odd\")"
   ]
  },
  {
   "cell_type": "markdown",
   "metadata": {},
   "source": [
    "- 1 extra point for each challenge that you program or pair program. \n",
    "- 0.5 points for your review ticket looking nice, or you convincing me that it does.\n",
    "- 1 point for each and any extra work you do that helps show your understanding of conditionals."
   ]
  },
  {
   "cell_type": "markdown",
   "metadata": {},
   "source": [
    "## Hacks\n",
    "- Create 3 different flow charts representing nested statements and transfer them into code.\n",
    "- Create a piece of code that displays four statements instead of three. Try to do more if you can.\n",
    "- Make piece of code that gives three different recommendations for possible classes to take at a school based on two different conditions. These conditions could be if the student likes STEM or not."
   ]
  }
 ],
 "metadata": {
  "kernelspec": {
   "display_name": "Python 3.10.6 64-bit",
   "language": "python",
   "name": "python3"
  },
  "language_info": {
   "codemirror_mode": {
    "name": "ipython",
    "version": 3
   },
   "file_extension": ".py",
   "mimetype": "text/x-python",
   "name": "python",
   "nbconvert_exporter": "python",
   "pygments_lexer": "ipython3",
   "version": "3.10.6"
  },
  "orig_nbformat": 4,
  "vscode": {
   "interpreter": {
    "hash": "b0fa6594d8f4cbf19f97940f81e996739fb7646882a419484c72d19e05852a7e"
   }
  }
 },
 "nbformat": 4,
 "nbformat_minor": 2
}
