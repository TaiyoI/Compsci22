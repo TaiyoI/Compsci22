{
 "cells": [
  {
   "attachments": {},
   "cell_type": "markdown",
   "metadata": {},
   "source": [
    "# Lesson 3.14-3.15\n",
    "- title: \"Lesson 3.14-3.15\"\n",
    "- description: Hacks\n",
    "- toc: true\n",
    "- comments: true\n",
    "------"
   ]
  },
  {
   "cell_type": "markdown",
   "metadata": {},
   "source": [
    "### Hacks\n",
    "- Write a program that uses a library/libraries in any sort of manner.\n",
    "- Explain your work/code"
   ]
  },
  {
   "attachments": {},
   "cell_type": "markdown",
   "metadata": {},
   "source": [
    "## Hacks Summary\n",
    "\n",
    "### Hacks 3.14.1\n",
    "- Write a program that uses a library/libraries in any sort of manner.\n",
    "- Explain your work/code\n",
    "\n",
    "### Hacks 3.15.1\n",
    "\n",
    "* Write a few lines of code that implements the import function\n",
    "\n",
    "* Define what an import random function do\n",
    "\n",
    "* List a few other things that we can import other than random\n",
    "\n",
    "### Hacks 3.15.2\n",
    "- For your hacks you need to create a random number generator that will simulate this situation:\n",
    "- There is a spinner divided into eight equal parts. 3 parts of the spinner are green, two parts are blue, one part is purple, one part is red, and one part is orange. How can you simulate this situation using a random number generator.\n",
    " \n",
    "- Also answer this question: What numbers can be outputted from RANDOM(12,20) and what numbers are excluded?"
   ]
  },
  {
   "attachments": {},
   "cell_type": "markdown",
   "metadata": {},
   "source": [
    "---\n",
    "Unit 3 sections 14 and 15 Notes\n",
    "\n",
    "- A software library contains procedures that can be used in the creation of new programs.\n",
    "- Existing segments of code can come from internal or external sources, ie. libraries or previously written code.\n",
    "- The use of libraries simplifies the task of creating complex programs.\n",
    "- Application program interfaces (APIs) are specifications for how the procedures in a library behave and can be used.\n",
    "- Documentation for a library or API is necessary in understanding the key behaviors provided by the API/library and how to utilize them in your work.\n",
    "\n",
    "- A library is a collection of code from an external source that can be used to add functionality to a program.\n",
    "- Libraries are very useful, as they can be used to save time and effort in the development process.\n",
    "- Libraries are usually included in a program using a special keyword called \" .\" This keyword tells the program to look for the library and use its code.\n",
    "\n",
    "## Lesson 3.15.1\n",
    "1) Randomization generates a value between two numbers. For example RANDOM(1,3) may result as 1 or 2 or 3, either one of those.\n",
    "\n",
    "2) Now if we look into our day to day life we can see that randomization is all around us. \n",
    "\n",
    "3) In order to use the random function we have to first import random at the very beginning.\n",
    "\n",
    "Now lets look at the code below right here.\n",
    "\n",
    "1) The lowest number that will be generated is 0 for answer 1 and for answer2, the lowest that will be generated is 1 so the lowest number that can be generated for answer 3 would be 1. \n",
    "\n",
    "2) The highest number that will be generated to answer1 is 3 and the highest number that will be generated for answer 2 is 8 so the highest number for answer 3 would be 11. \n",
    "\n",
    "3) The range of numbers that answer 3 could print out would be from 1 to 11.\n",
    "\n"
   ]
  },
  {
   "cell_type": "code",
   "execution_count": null,
   "metadata": {},
   "outputs": [],
   "source": [
    "import random\n",
    "sum = random.randint(1,6) + random.randint(1,6) + random.randint(1,6)\n",
    "print(sum)"
   ]
  },
  {
   "cell_type": "code",
   "execution_count": null,
   "metadata": {},
   "outputs": [],
   "source": [
    "import random \n",
    "sum = random.randint(1,18)\n",
    "print(sum)"
   ]
  },
  {
   "cell_type": "code",
   "execution_count": null,
   "metadata": {},
   "outputs": [],
   "source": [
    "import random\n",
    "sum = 3*random.randint(1,6)\n",
    "print(sum)"
   ]
  },
  {
   "attachments": {},
   "cell_type": "markdown",
   "metadata": {},
   "source": [
    " Random can also have different methods, in the above examples we only used one example, randint which returns a random number between the given range. Down below I have created a table of all the methods with the description of what it is used for with the random function."
   ]
  },
  {
   "attachments": {},
   "cell_type": "markdown",
   "metadata": {},
   "source": [
    "Method\t          |  Description\n",
    "\n",
    "seed()\t          |  Initialize the random number generator\n",
    "\n",
    "getstate()\t      |  Returns the current internal state of the random number generator\n",
    "\n",
    "setstate()\t      |  Restores the internal state of the random number generator\n",
    "\n",
    "getrandbits()\t  |  Returns a number representing the random bits\n",
    "\n",
    "randrange()\t      |  Returns a random number between the given range\n",
    "\n",
    "randint()\t      |  Returns a random number between the given range\n",
    "\n",
    "choice()\t      |  Returns a random element from the given sequence\n",
    "\n",
    "choices()\t      |  Returns a list with a random selection from the given sequence\n",
    "\n",
    "shuffle()\t      |  Takes a sequence and returns the sequence in a random order\n",
    "\n",
    "sample()\t      |  Returns a given sample of a sequence\n",
    "\n",
    "random()\t      |  Returns a random float number between 0 and 1\n",
    "\n",
    "uniform()\t      |  Returns a random float number between two given parameters\n",
    "\n",
    "betavariate()\t  |  Returns a random float number between 0 and 1 based on the Beta distribution (used in statistics)\n",
    "\n",
    "expovariate()\t  |  Returns a random float number based on the Exponential distribution (used in statistics)\n",
    "\n",
    "gammavariate()\t  |  Returns a random float number based on the Gamma distribution (used in statistics)\n",
    "\n",
    "gauss()\t          |  Returns a random float number based on the Gaussian distribution (used in probability theories)\n",
    "\n",
    "lognormvariate()  |  Returns a random float number based on a log-normal distribution (used in probability theories)\n",
    "\n",
    "normalvariate()\t  |  Returns a random float number based on the normal distribution (used in probability theories)\n",
    "\n",
    "vonmisesvariate() |  Returns a random float number based on the von Mises distribution (used in directional statistics)\n",
    "\n",
    "paretovariate()\t  |  Returns a random float number based on the Pareto distribution (used in probability theories)\n",
    "\n",
    "weibullvariate()  |  Returns a random float number based on the Weibull distribution (used in statistics)\n"
   ]
  }
 ],
 "metadata": {
  "kernelspec": {
   "display_name": "Python 3",
   "language": "python",
   "name": "python3"
  },
  "language_info": {
   "name": "python",
   "version": "3.10.6 (main, Aug 11 2022, 13:36:31) [Clang 13.1.6 (clang-1316.0.21.2.5)]"
  },
  "orig_nbformat": 4,
  "vscode": {
   "interpreter": {
    "hash": "b0fa6594d8f4cbf19f97940f81e996739fb7646882a419484c72d19e05852a7e"
   }
  }
 },
 "nbformat": 4,
 "nbformat_minor": 2
}
