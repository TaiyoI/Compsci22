{
 "cells": [
  {
   "cell_type": "markdown",
   "metadata": {},
   "source": [
    "# Algorithms and Logic\n",
    "- title: \"Algorithms and Logic\"\n",
    "- description: Algorithms and logic\n",
    "- toc: true\n",
    "- comments: true\n",
    "- layout: post\n",
    "- author: Taiyo Iwazaki\n",
    "- tags: [Algorithms, Markdown]\n"
   ]
  },
  {
   "cell_type": "markdown",
   "metadata": {},
   "source": [
    "## Vocabulary\n",
    "- <mark>Truth Table</mark>\n",
    "A truth table is a breakdown of a logic function by listing all possible values the function can attain. Such a table typically contains several rows and columns, with the top row representing the logical variables and combinations, in increasing complexity leading up to the final function.\n",
    "\n",
    "- <mark>Linear Sequence of code</mark>\n",
    "The order of executions is strictly from top to bottom. This is good for learning, but is typically a poor method for an Algorithm! This was my 1st exploration above.\n",
    "\n",
    "- <mark>Procedure (Function)</mark>\n",
    "A Procedure is a set of code instructions that has been abstracted into logical parts. Each code abstraction is called \"Procedural Abstraction\".\n",
    "\n"
   ]
  },
  {
   "cell_type": "code",
   "execution_count": 2,
   "metadata": {},
   "outputs": [
    {
     "name": "stdout",
     "output_type": "stream",
     "text": [
      "Truth Table\n",
      "\n",
      "A B C D | f(A,B,C,D)\n",
      "========|===========\n",
      "T T T T |     F\n",
      "T T T F |     T\n",
      "T T F T |     T\n",
      "T T F F |     F\n",
      "T F T T |     T\n",
      "T F T F |     F\n",
      "T F F T |     F\n",
      "T F F F |     T\n",
      "F T T T |     T\n",
      "F T T F |     F\n",
      "F T F T |     F\n",
      "F T F F |     T\n",
      "F F T T |     F\n",
      "F F T F |     T\n",
      "F F F T |     T\n",
      "F F F F |     F\n"
     ]
    }
   ],
   "source": [
    "# supporting logic function(s) \n",
    "def xor(x,y): \n",
    "  return (x or y) and not (x and y) \n",
    " \n",
    "# The boolean function\n",
    "def F(A, B, C, D): \n",
    "  P = xor(A, B) \n",
    "  Q = xor(C, D) \n",
    "  R = xor(P, Q) \n",
    "  return R \n",
    " \n",
    "# Translates between 'T'/'F' and True/False: \n",
    "def f(a,b,c,d): \n",
    "  t = 'T' \n",
    "  (A,B,C,D) = (a==t, b==t, c==t, d==t) \n",
    "  R = F(A, B, C, D) \n",
    "  return \"FT\"[R] \n",
    " \n",
    "print(\"Truth Table\") \n",
    "print() \n",
    "print(\"A B C D | f(A,B,C,D)\") \n",
    "print(\"========|===========\") \n",
    "r = \"TF\" \n",
    "for a in r: \n",
    "  for b in r: \n",
    "    for c in r: \n",
    "      for d in r: \n",
    "        print(a, b, c, d, \"|    \", f(a, b, c, d)) "
   ]
  }
 ],
 "metadata": {
  "kernelspec": {
   "display_name": "Python 3.10.6 64-bit",
   "language": "python",
   "name": "python3"
  },
  "language_info": {
   "codemirror_mode": {
    "name": "ipython",
    "version": 3
   },
   "file_extension": ".py",
   "mimetype": "text/x-python",
   "name": "python",
   "nbconvert_exporter": "python",
   "pygments_lexer": "ipython3",
   "version": "3.10.6"
  },
  "orig_nbformat": 4,
  "vscode": {
   "interpreter": {
    "hash": "b0fa6594d8f4cbf19f97940f81e996739fb7646882a419484c72d19e05852a7e"
   }
  }
 },
 "nbformat": 4,
 "nbformat_minor": 2
}
