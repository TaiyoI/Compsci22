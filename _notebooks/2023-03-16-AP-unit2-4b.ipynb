{
 "cells": [
  {
   "attachments": {},
   "cell_type": "markdown",
   "metadata": {},
   "source": [
    "#  Unit 2.4b Using Programs with Data, SQL\n",
    "> Using Programs with Data is focused on SQL and database actions.  Part B focuses on learning SQL commands, connections, and curses using an Imperative programming style,\n",
    "- toc: true\n",
    "- image: /images/python.png\n",
    "- categories: []\n",
    "- type: ap\n",
    "- week: 26"
   ]
  },
  {
   "attachments": {},
   "cell_type": "markdown",
   "metadata": {},
   "source": [
    "# Database Programming is Program with Data\n",
    "> Each Tri 2 Final Project should be an example of a Program with Data. \n",
    "\n",
    ">  Prepare to use SQLite in common Imperative Technique\n",
    "- Explore [SQLite Connect object](https://www.tutorialspoint.com/python_data_access/python_sqlite_establishing_connection.htm) to establish database connection\n",
    "- Explore [SQLite Cursor Object](https://www.tutorialspoint.com/python_data_access/python_sqlite_cursor_object.htm) to fetch data from a table within a database\n"
   ]
  },
  {
   "attachments": {},
   "cell_type": "markdown",
   "metadata": {},
   "source": [
    "## Schema of Users table in Sqlite.db\n",
    "> Uses PRAGMA statement to read schema.\n",
    "\n",
    "Describe Schema, here is resource [Resource](https://www.sqlite.org/index.html)\n",
    "What is a database schema?\n",
    "A database schema is how the data in a database is saved. The schema can be considered the metadata.\n",
    "What is the purpose of identity Column in SQL database?\n",
    "Identity columns help to identify each specific row of the database. This ensures that each row has its own identity column.\n",
    "What is the purpose of a primary key in SQL database?\n",
    "A primary key in a SQL database is something which can uniquely identify the row of a database. For example, the users database uses id for the primary key. For the coders, we use the uid as the primary key.\n",
    "What are the Data Types in SQL table?\n",
    "The data types in a SQL table include integers, floats, and strings."
   ]
  },
  {
   "cell_type": "code",
   "execution_count": 6,
   "metadata": {},
   "outputs": [
    {
     "name": "stdout",
     "output_type": "stream",
     "text": [
      "(0, 'id', 'INTEGER', 1, None, 1)\n",
      "(1, '_name', 'VARCHAR(255)', 1, None, 0)\n",
      "(2, '_uid', 'VARCHAR(255)', 1, None, 0)\n",
      "(3, '_password', 'VARCHAR(255)', 1, None, 0)\n",
      "(4, '_dob', 'DATE', 0, None, 0)\n"
     ]
    }
   ],
   "source": [
    "import sqlite3\n",
    "\n",
    "database = 'instance/sqlite.db' # this is location of database\n",
    "\n",
    "def schema():\n",
    "    \n",
    "    # Connect to the database file\n",
    "    conn = sqlite3.connect(database)\n",
    "\n",
    "    # Create a cursor object to execute SQL queries\n",
    "    cursor = conn.cursor()\n",
    "    \n",
    "    # Fetch results of Schema\n",
    "    results = cursor.execute(\"PRAGMA table_info('users')\").fetchall()\n",
    "\n",
    "    # Print the results\n",
    "    for row in results:\n",
    "        print(row)\n",
    "\n",
    "    # Close the database connection\n",
    "    conn.close()\n",
    "    \n",
    "schema()\n"
   ]
  },
  {
   "attachments": {},
   "cell_type": "markdown",
   "metadata": {},
   "source": [
    "## Reading Users table in Sqlite.db\n",
    "> Uses SQL SELECT statement to read data\n",
    "\n",
    "What is a connection object? After you google it, what do you think it does?\n",
    "A connection object is an object which allows us to connect with the sqlite db to be able to interact with it.\n",
    "Same for cursor object?\n",
    "A cursor object is an object which allows us to search through the sql database. These allow us to work with sqlite db.\n",
    "Look at conn object and cursor object in VSCode debugger. What attributes are in the object?\n",
    "Attributes in the object include\n",
    "Is \"results\" an object? How do you know?\n",
    "\"results\" is an object. We know this because it is a collection of information and has some methods."
   ]
  },
  {
   "cell_type": "code",
   "execution_count": 7,
   "metadata": {},
   "outputs": [
    {
     "name": "stdout",
     "output_type": "stream",
     "text": [
      "(1, 'Thomas Edison', 'toby', 'sha256$4SVJ7kkCCyNJxzYa$0056ba674022a101e3c95c98a6def113cce46fd9b9377f49585a922613b788ac', '1847-02-11')\n",
      "(2, 'Nikola Tesla', 'niko', 'sha256$3JulSZn8vBMTlxaT$a77baa05b96bf19871e0d3113fc289591dc6aba36e1bef124948db69e2a4a8aa', '2023-03-15')\n",
      "(3, 'Alexander Graham Bell', 'lex', 'sha256$7G5aEIDn3LltlNqg$134aac6e5013c96702e3603e768757acc2c1aa75d274c0b3823e4e3407c00e0c', '2023-03-15')\n",
      "(4, 'Eli Whitney', 'whit', 'sha256$bWJ0fVwBCyclQ6LK$7adc1fe3834c4d82c5fdda4db0005fb344d788bd8e60e3150cd34b793eb76d96', '2023-03-15')\n",
      "(5, 'Indiana Jones', 'indi', 'sha256$DlTpEGT8fpZfh5hp$bc07f588eb5cbc53231ffd5b790293bbe33cd4a950ad407b700b2018068dd8a5', '1920-10-21')\n",
      "(6, 'Marion Ravenwood', 'raven', 'sha256$FJZ1pI4Ic5DwFkd1$ec2f2b3dcba7bf94aff1c2251e0a0fdac98192ce90e0b97d8faa86ae54e69e59', '1921-10-21')\n",
      "(7, '12', '12', 'sha256$wBLMtxfTU9F84C2y$aa2a3a90a4eb78e5078f0fbca65960dcee76afbbf843beba9c1fe594fc5f7c69', '2023-03-15')\n"
     ]
    }
   ],
   "source": [
    "import sqlite3\n",
    "\n",
    "def read():\n",
    "    # Connect to the database file\n",
    "    conn = sqlite3.connect(database)\n",
    "\n",
    "    # Create a cursor object to execute SQL queries\n",
    "    cursor = conn.cursor()\n",
    "    \n",
    "    # Execute a SELECT statement to retrieve data from a table\n",
    "    results = cursor.execute('SELECT * FROM users').fetchall()\n",
    "\n",
    "    # Print the results\n",
    "    if len(results) == 0:\n",
    "        print(\"Table is empty\")\n",
    "    else:\n",
    "        for row in results:\n",
    "            print(row)\n",
    "\n",
    "    # Close the cursor and connection objects\n",
    "    cursor.close()\n",
    "    conn.close()\n",
    "    \n",
    "read()\n"
   ]
  },
  {
   "attachments": {},
   "cell_type": "markdown",
   "metadata": {},
   "source": [
    "## Create a new User in table in Sqlite.db\n",
    "Uses SQL INSERT to add row\n",
    "\n",
    "Compare create() in both SQL lessons. What is better or worse in the two implementations?\n",
    "The code for this create is much shorter. It requires the conn and cursor objects to be opened and closed. The cursor must execute a code which takes all of the variables and adds it to the table.\n",
    "Explain purpose of SQL INSERT. Is this the same as User init?\n",
    "SQL INSERT allows rows to be added to an SQL database table. The User init function allows a dataset which is defined to be able to added to an SQL database. This serves a similar purpose."
   ]
  },
  {
   "cell_type": "code",
   "execution_count": 8,
   "metadata": {},
   "outputs": [],
   "source": [
    "import sqlite3\n",
    "\n",
    "def create():\n",
    "    name = input(\"Enter your name:\")\n",
    "    uid = input(\"Enter your user id:\")\n",
    "    password = input(\"Enter your password\")\n",
    "    dob = input(\"Enter your date of birth 'YYYY-MM-DD'\")\n",
    "    \n",
    "    # Connect to the database file\n",
    "    conn = sqlite3.connect(database)\n",
    "\n",
    "    # Create a cursor object to execute SQL commands\n",
    "    cursor = conn.cursor()\n",
    "\n",
    "    try:\n",
    "        # Execute an SQL command to insert data into a table\n",
    "        cursor.execute(\"INSERT INTO users (_name, _uid, _password, _dob) VALUES (?, ?, ?, ?)\", (name, uid, password, dob))\n",
    "        \n",
    "        # Commit the changes to the database\n",
    "        conn.commit()\n",
    "        print(f\"A new user record {uid} has been created\")\n",
    "                \n",
    "    except sqlite3.Error as error:\n",
    "        print(\"Error while executing the INSERT:\", error)\n",
    "\n",
    "\n",
    "    # Close the cursor and connection objects\n",
    "    cursor.close()\n",
    "    conn.close()\n",
    "    \n",
    "#create()"
   ]
  },
  {
   "attachments": {},
   "cell_type": "markdown",
   "metadata": {},
   "source": [
    "## Updating a User in table in Sqlite.db\n",
    "> Uses SQL UPDATE to modify password\n",
    "What does the hacked part do?\n",
    "The hacked part of the update function outputs a message to the user if the length of the password is too short. This serves as authentication for the user to make sure that a password is long enough for security purposes.\n",
    "Explain try/except, when would except occur?\n",
    "Try and except work as things which check if certain code is running/working. Try runs if the code is working smoothly, and in this case serves to update the password. Except occurs if there is an error with the connection and cursor with the database. This serves as a good way to check errors if there is something wrong with the code.\n",
    "What code seems to be repeated in each of these examples to point, why is it repeated?\n",
    "Code that seems to be repeated include import sqlite3, defining the conn and cursor methods, cursor execute, conn.commit(), and conn and cursor close. This code seems to be repeated because it is required to connect and use the cursor method in the database. cursor.execute() seems to run the wanted code, whether it is update, delete, read, etc. conn.commit() appears that it commits the changes to the database in order to make the changes permanent. The closing of cursor and conn appears to be present because it is important be able to close the working connections and cursors in order to be able to have different ones. This is especially important when working with servers because it makes sure to have orderly code and prevents resources from being used unnecessarily."
   ]
  },
  {
   "cell_type": "code",
   "execution_count": null,
   "metadata": {},
   "outputs": [],
   "source": [
    "import sqlite3\n",
    "\n",
    "def update():\n",
    "    uid = input(\"Enter user id to update\")\n",
    "    password = input(\"Enter updated password\")\n",
    "    if len(password) < 2:\n",
    "        message = \"hacked\"\n",
    "        password = 'gothackednewpassword123'\n",
    "    else:\n",
    "        message = \"successfully updated\"\n",
    "\n",
    "    # Connect to the database file\n",
    "    conn = sqlite3.connect(database)\n",
    "\n",
    "    # Create a cursor object to execute SQL commands\n",
    "    cursor = conn.cursor()\n",
    "\n",
    "    try:\n",
    "        # Execute an SQL command to update data in a table\n",
    "        cursor.execute(\"UPDATE users SET _password = ? WHERE _uid = ?\", (password, uid))\n",
    "        if cursor.rowcount == 0:\n",
    "            # The uid was not found in the table\n",
    "            print(f\"No uid {uid} was not found in the table\")\n",
    "        else:\n",
    "            print(f\"The row with user id {uid} the password has been {message}\")\n",
    "            conn.commit()\n",
    "    except sqlite3.Error as error:\n",
    "        print(\"Error while executing the UPDATE:\", error)\n",
    "        \n",
    "    \n",
    "    # Close the cursor and connection objects\n",
    "    cursor.close()\n",
    "    conn.close()\n",
    "    \n",
    "#update()\n"
   ]
  },
  {
   "attachments": {},
   "cell_type": "markdown",
   "metadata": {},
   "source": [
    "## Delete a User in table in Sqlite.db\n",
    "> Uses a delete function to remove a user based on a user input of the id.\n",
    "Is DELETE a dangerous operation? Why?\n",
    "DELETE can be a dangerous operation because it can remove information from the database, and if placed in the wrong hands, they could delete important information by accident. However, delete is also necessary in order to maintain a clean database with proper records.\n",
    "In the print statemements, what is the \"f\" and what does {uid} do?\n",
    "In the print statements, the \"f\" and {uid} allow the coder to include the selected uid without having to add multiple strings in the print statement. It allows for easy replacement and making a statement which uses the variable which the user called for."
   ]
  },
  {
   "cell_type": "code",
   "execution_count": null,
   "metadata": {},
   "outputs": [],
   "source": [
    "import sqlite3\n",
    "\n",
    "def delete():\n",
    "    uid = input(\"Enter user id to delete\")\n",
    "\n",
    "    # Connect to the database file\n",
    "    conn = sqlite3.connect(database)\n",
    "\n",
    "    # Create a cursor object to execute SQL commands\n",
    "    cursor = conn.cursor()\n",
    "    \n",
    "    try:\n",
    "        cursor.execute(\"DELETE FROM users WHERE _uid = ?\", (uid,))\n",
    "        if cursor.rowcount == 0:\n",
    "            # The uid was not found in the table\n",
    "            print(f\"No uid {uid} was not found in the table\")\n",
    "        else:\n",
    "            # The uid was found in the table and the row was deleted\n",
    "            print(f\"The row with uid {uid} was successfully deleted\")\n",
    "        conn.commit()\n",
    "    except sqlite3.Error as error:\n",
    "        print(\"Error while executing the DELETE:\", error)\n",
    "        \n",
    "    # Close the cursor and connection objects\n",
    "    cursor.close()\n",
    "    conn.close()\n",
    "    \n",
    "#delete()"
   ]
  },
  {
   "attachments": {},
   "cell_type": "markdown",
   "metadata": {},
   "source": [
    "# Menu Interface to CRUD operations\n",
    "\n",
    "CRUD and Schema interactions from one location by running menu. Observe input at the top of VSCode, observe output underneath code cell.\n",
    "\n",
    "Why does the menu repeat?\n",
    "The menu repeats so the user has access to the functions multiple times if they want, instead of having to restart the code cell every time they want to try a new function.\n",
    "Could you refactor this menu? Make it work with a List?\n",
    "This menu could be refactored, to reduce the number of elif statements had. Refactoring allows the code to be cleaned up and become more organized. The menu could be held in a list or dictionary and based on the output, the specific function would occur."
   ]
  },
  {
   "cell_type": "code",
   "execution_count": 11,
   "metadata": {},
   "outputs": [
    {
     "name": "stdout",
     "output_type": "stream",
     "text": [
      "(1, 'Thomas Edison', 'toby', 'sha256$4SVJ7kkCCyNJxzYa$0056ba674022a101e3c95c98a6def113cce46fd9b9377f49585a922613b788ac', '1847-02-11')\n",
      "(2, 'Nikola Tesla', 'niko', 'sha256$3JulSZn8vBMTlxaT$a77baa05b96bf19871e0d3113fc289591dc6aba36e1bef124948db69e2a4a8aa', '2023-03-15')\n",
      "(3, 'Alexander Graham Bell', 'lex', 'sha256$7G5aEIDn3LltlNqg$134aac6e5013c96702e3603e768757acc2c1aa75d274c0b3823e4e3407c00e0c', '2023-03-15')\n",
      "(4, 'Eli Whitney', 'whit', 'sha256$bWJ0fVwBCyclQ6LK$7adc1fe3834c4d82c5fdda4db0005fb344d788bd8e60e3150cd34b793eb76d96', '2023-03-15')\n",
      "(5, 'Indiana Jones', 'indi', 'sha256$DlTpEGT8fpZfh5hp$bc07f588eb5cbc53231ffd5b790293bbe33cd4a950ad407b700b2018068dd8a5', '1920-10-21')\n",
      "(6, 'Marion Ravenwood', 'raven', 'sha256$FJZ1pI4Ic5DwFkd1$ec2f2b3dcba7bf94aff1c2251e0a0fdac98192ce90e0b97d8faa86ae54e69e59', '1921-10-21')\n",
      "(7, '12', '12', 'sha256$wBLMtxfTU9F84C2y$aa2a3a90a4eb78e5078f0fbca65960dcee76afbbf843beba9c1fe594fc5f7c69', '2023-03-15')\n",
      "(8, 'taiyo', 'tio', 'qwe', '11-19-06')\n",
      "(1, 'Thomas Edison', 'toby', 'sha256$4SVJ7kkCCyNJxzYa$0056ba674022a101e3c95c98a6def113cce46fd9b9377f49585a922613b788ac', '1847-02-11')\n",
      "(2, 'Nikola Tesla', 'niko', 'sha256$3JulSZn8vBMTlxaT$a77baa05b96bf19871e0d3113fc289591dc6aba36e1bef124948db69e2a4a8aa', '2023-03-15')\n",
      "(3, 'Alexander Graham Bell', 'lex', 'sha256$7G5aEIDn3LltlNqg$134aac6e5013c96702e3603e768757acc2c1aa75d274c0b3823e4e3407c00e0c', '2023-03-15')\n",
      "(4, 'Eli Whitney', 'whit', 'sha256$bWJ0fVwBCyclQ6LK$7adc1fe3834c4d82c5fdda4db0005fb344d788bd8e60e3150cd34b793eb76d96', '2023-03-15')\n",
      "(5, 'Indiana Jones', 'indi', 'sha256$DlTpEGT8fpZfh5hp$bc07f588eb5cbc53231ffd5b790293bbe33cd4a950ad407b700b2018068dd8a5', '1920-10-21')\n",
      "(6, 'Marion Ravenwood', 'raven', 'sha256$FJZ1pI4Ic5DwFkd1$ec2f2b3dcba7bf94aff1c2251e0a0fdac98192ce90e0b97d8faa86ae54e69e59', '1921-10-21')\n",
      "(7, '12', '12', 'sha256$wBLMtxfTU9F84C2y$aa2a3a90a4eb78e5078f0fbca65960dcee76afbbf843beba9c1fe594fc5f7c69', '2023-03-15')\n",
      "(8, 'taiyo', 'tio', 'qwe', '11-19-06')\n"
     ]
    }
   ],
   "source": [
    "# Menu, to run other cells from one control point\n",
    "def menu():\n",
    "    operation = input(\"Enter: (C)reate (R)ead (U)pdate or (D)elete or (S)chema\")\n",
    "    if operation.lower() == 'c':\n",
    "        create()\n",
    "    elif operation.lower() == 'r':\n",
    "        read()\n",
    "    elif operation.lower() == 'u':\n",
    "        update()\n",
    "    elif operation.lower() == 'd':\n",
    "        delete()\n",
    "    elif operation.lower() == 's':\n",
    "        schema()\n",
    "    elif len(operation)==0: # Escape Key\n",
    "        return\n",
    "    else:\n",
    "        print(\"Please enter c, r, u, or d\") \n",
    "    menu() # recursion, repeat menu\n",
    "        \n",
    "try:\n",
    "    menu() # start menu\n",
    "except:\n",
    "    print(\"Perform Jupyter 'Run All' prior to starting menu\")\n"
   ]
  },
  {
   "attachments": {},
   "cell_type": "markdown",
   "metadata": {},
   "source": [
    "# Hacks\n",
    "- Add this Blog to you own Blogging site.  In the Blog add notes and observations on each code cell.\n",
    "- In this implementation, do you see procedural abstraction?\n",
    "- In 2.4a or 2.4b lecture\n",
    "    - Do you see data abstraction?  Complement this with Debugging example.\n",
    "    - Use Imperative or OOP style to Create a new Table or do something that applies to your CPT project.\n",
    "    \n",
    "\n",
    "Reference... [sqlite documentation](https://www.sqlitetutorial.net/sqlite-python/creating-tables/)\n"
   ]
  }
 ],
 "metadata": {
  "kernelspec": {
   "display_name": "base",
   "language": "python",
   "name": "python3"
  },
  "language_info": {
   "codemirror_mode": {
    "name": "ipython",
    "version": 3
   },
   "file_extension": ".py",
   "mimetype": "text/x-python",
   "name": "python",
   "nbconvert_exporter": "python",
   "pygments_lexer": "ipython3",
   "version": "3.10.9"
  },
  "orig_nbformat": 4,
  "vscode": {
   "interpreter": {
    "hash": "8b82d5009c68ba5675978267e2b13a671f2a7143d61273c5a3813c97e0b2493d"
   }
  }
 },
 "nbformat": 4,
 "nbformat_minor": 2
}
