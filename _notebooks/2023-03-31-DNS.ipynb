{
 "cells": [
  {
   "attachments": {},
   "cell_type": "markdown",
   "metadata": {},
   "source": [
    "#  DNS setting up nighthawk\n",
    "> Observing hashmaps with python dictionaries\n",
    "- toc: true\n",
    "- categories: []\n",
    "- type: pbl"
   ]
  },
  {
   "attachments": {},
   "cell_type": "markdown",
   "metadata": {},
   "source": [
    "## Lesson plan\n",
    "\n",
    "Lesson Plan: AWS and DNS\n",
    "\n",
    "Objective:\n",
    "Students will learn how to use Amazon Web Services (AWS) to set up a domain name system (DNS) and configure DNS records.\n",
    "\n",
    "Materials:\n",
    "\n",
    "AWS account\n",
    "Access to the AWS Management Console\n",
    "Basic understanding of DNS\n",
    "Prerequisites:\n",
    "\n",
    "Basic knowledge of networking and DNS\n",
    "Familiarity with AWS Management Console\n",
    "Lesson Plan:\n",
    "\n",
    "Introduction to AWS and DNS (10 minutes)\n",
    "\n",
    "- Brief overview of AWS and its services\n",
    "- Explanation of DNS and its importance in web applications\n",
    "\n",
    "Setting up a DNS Zone (15 minutes)\n",
    "- Log in to the AWS Management Console\n",
    "- Navigate to Route 53 service\n",
    "- Click \"Create Hosted Zone\"\n",
    "- Enter a domain name and click \"Create\"\n",
    "- Review the hosted zone details and take note of the nameservers\n",
    "- Configuring DNS Records (25 minutes)\n",
    "- Navigate to the hosted zone created in step 2\n",
    "- Click \"Create Record Set\"\n",
    "- Enter the record name, type, and value\n",
    "- Click \"Create\"\n",
    "- Repeat for additional records\n",
    "- Test the records using a DNS lookup tool\n",
    "\n",
    "Code Snippets (30 minutes)\n",
    "- Provide students with code snippets for automating DNS record creation in AWS using the AWS SDK\n",
    "- Guide students through setting up and configuring the SDK on their local machines\n",
    "- Demonstrate how to use the SDK to create and modify DNS records\n",
    "Conclusion (10 minutes)\n",
    "- Recap the importance of DNS in web applications\n",
    "- Discuss the benefits of automating DNS record creation in AWS\n",
    "- Encourage students to explore other AWS services and incorporate DNS in their future projects\n",
    "\n",
    "Code Snippet:\n",
    "Here is an example of creating a DNS record in AWS Route 53 using the AWS SDK for Python:"
   ]
  },
  {
   "cell_type": "code",
   "execution_count": null,
   "metadata": {},
   "outputs": [],
   "source": [
    "import boto3\n",
    "\n",
    "# Create a Route 53 client\n",
    "client = boto3.client('route53')\n",
    "\n",
    "# Define the hosted zone ID\n",
    "hosted_zone_id = 'YOUR_HOSTED_ZONE_ID'\n",
    "\n",
    "# Define the new record set\n",
    "record_set = {\n",
    "    'Name': 'example.com',\n",
    "    'Type': 'A',\n",
    "    'TTL': 300,\n",
    "    'ResourceRecords': [\n",
    "        {\n",
    "            'Value': '192.0.2.1'\n",
    "        }\n",
    "    ]\n",
    "}\n",
    "\n",
    "# Create the record set\n",
    "response = client.change_resource_record_sets(\n",
    "    HostedZoneId=hosted_zone_id,\n",
    "    ChangeBatch={\n",
    "        'Changes': [\n",
    "            {\n",
    "                'Action': 'CREATE',\n",
    "                'ResourceRecordSet': record_set\n",
    "            }\n",
    "        ]\n",
    "    }\n",
    ")\n",
    "\n",
    "# Print the response\n",
    "print(response)\n"
   ]
  }
 ],
 "metadata": {
  "kernelspec": {
   "display_name": "base",
   "language": "python",
   "name": "python3"
  },
  "language_info": {
   "name": "python",
   "version": "3.9.12"
  },
  "orig_nbformat": 4,
  "vscode": {
   "interpreter": {
    "hash": "a7fbbb54f4c181edc972ed0306a01439bd91c43236a2d6fefc317f72e31b9e0c"
   }
  }
 },
 "nbformat": 4,
 "nbformat_minor": 2
}
