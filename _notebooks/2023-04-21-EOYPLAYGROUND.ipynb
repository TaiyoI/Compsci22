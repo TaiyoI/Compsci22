{
 "cells": [
  {
   "attachments": {},
   "cell_type": "markdown",
   "metadata": {},
   "source": [
    "# P4-M 4/24 Big Idea 3\n",
    "> Lesson about Big Idea 3\n",
    "author: Finn, Edwin, Zeen, Gene, James, Kush, Luka\n",
    "toc: true\n",
    "comments: true\n",
    "week: 30\n",
    "type: ap\n",
    "categories: [student]\n",
    "layout: base"
   ]
  },
  {
   "attachments": {},
   "cell_type": "markdown",
   "metadata": {},
   "source": [
    "## Introduction: Zeen\n",
    "Hello, my name is zeen and today we will be presenting big idea 3. Our topics include 2d arrays, iteration, and lists and dictionaries.\n",
    "\n",
    "### Objectives\n",
    "Master the concepts of iteration, list, 2d-arrays, Dictionaries, and APIs\n",
    "\n",
    "### Vocab\n",
    "Here is some vocab during the lesson, you should be familar with them already no need for me to read these out, now I will pass the speaking off to Kush\n",
    "\n",
    "\n",
    "\n",
    "- **Iteration**: A process that repates itself\n",
    "- **Array**: Sometimes called a list, can keep strings and intergers inside it\n",
    "- **2D-Array**: A collection of data elements arranged in a grid-like structure with rows and columns\n",
    "- **Mutable**:  the ability to be changed or modified \n",
    "- **Key**: A Singular identifier that is associated with a certin value\n"
   ]
  },
  {
   "attachments": {},
   "cell_type": "markdown",
   "metadata": {},
   "source": [
    "## 1: 2D Array\n",
    "> Tic Tac Toe: Kush Sirohi\n",
    "\n",
    "- What are some examples of 2d Arrays\n",
    "- Some examples of 2d Arrays are a setting plan for  a room plan layout\n",
    "- What is a modern day game that could be classified as a 2D array\n",
    "- A modern day game that could be classified as a 2d array could be tic tac toe."
   ]
  },
  {
   "attachments": {},
   "cell_type": "markdown",
   "metadata": {},
   "source": [
    "## How I used 2D Arrays (game example)\n",
    "- Describe a 2D array in your own words\n",
    "- A 2d array is basically a data set that is organized into rows and columns."
   ]
  },
  {
   "attachments": {},
   "cell_type": "markdown",
   "metadata": {},
   "source": [
    "## 2: Iteration\n",
    "> Robot Game: Finn Carpenter\n",
    "- What is the defenition of iteration in your own words\n",
    "- The definition of iteration is basically the repeating process of a certain piece of code because it reduces complexity."
   ]
  },
  {
   "attachments": {},
   "cell_type": "markdown",
   "metadata": {},
   "source": [
    "## Iteration Game\n",
    "- [Link to the game](https://f1nnc.github.io/Playground/robot)\n",
    "- Play the levels (only play the first 2 in class)\n",
    "- Explain how the game relates to itertation\n",
    "- because you are using loops"
   ]
  },
  {
   "attachments": {},
   "cell_type": "markdown",
   "metadata": {},
   "source": [
    "## How I used iteration (game example)\n",
    "- What parts of the code use iteration\n",
    "- the parts of the code that uses iteration is using if functions."
   ]
  },
  {
   "attachments": {},
   "cell_type": "markdown",
   "metadata": {},
   "source": [
    "## How I used List to make a game\n",
    "- Explain which parts of the code use lists\n",
    "- in the beginning, there is a list that holds the information\n",
    "- Explain what list manipulation is happening in that part\n",
    "- the code is manipulating the list because it is pulling from the list to the guesses."
   ]
  },
  {
   "cell_type": "code",
   "execution_count": 6,
   "metadata": {},
   "outputs": [
    {
     "name": "stdout",
     "output_type": "stream",
     "text": [
      "Unscramble the following Computer Science Word: tenldieo\n",
      "Congratulations, you unscrambled the word!\n"
     ]
    }
   ],
   "source": [
    "import random\n",
    "\n",
    "word_list = [\"python\", \"computer\", \"programming\", \"algorithm\", \"database\", \"function\", \"variable\", \"loop\", \"iteration\", \"array\", \"mutable\", \"insertion\", \"deletion\", \"key\", \"API\"]\n",
    "\n",
    "word = random.choice(word_list)\n",
    "\n",
    "scrambled_word = \"\".join(random.sample(word, len(word)))\n",
    "\n",
    "print(f\"Unscramble the following Computer Science Word: {scrambled_word}\")\n",
    "\n",
    "hints = 1\n",
    "guesses = 1\n",
    "guess = \"\"\n",
    "\n",
    "while guess != word and guesses <= 4:\n",
    "    guess = input(\"What's the unscrambled word? \").lower()\n",
    "    if guess != word:\n",
    "        print(\"Sorry, that's not the word. Try again!\")\n",
    "        if guesses == 1:\n",
    "            guesses += 1\n",
    "        elif guesses == 2:\n",
    "            print(f\"Hint 1: The first letter of the word is '{word[0]}'\")\n",
    "            guesses += 1\n",
    "        elif guesses == 3:\n",
    "            print(f\"Hint 2: The second letter of the word is '{word[1]}'\")\n",
    "            guesses += 1\n",
    "        else:\n",
    "            print(f\"All 4 Guesses have been used, you didn't unscramble the word, the word was {word}\")\n",
    "            guesses += 1\n",
    "    else:\n",
    "        print(\"Congratulations, you unscrambled the word!\")"
   ]
  },
  {
   "attachments": {},
   "cell_type": "markdown",
   "metadata": {},
   "source": [
    "# Hacks: Your Score/1\n",
    "\n",
    "\n",
    "## General 0.3\n",
    "- Copy this noteboook into your personal fastpages\n",
    "- Answer all questions\n",
    "    - put the question in a new markdown block (so we can grade faster)"
   ]
  },
  {
   "attachments": {},
   "cell_type": "markdown",
   "metadata": {},
   "source": [
    "## Iteration 0.2 (can get up to 0.23)\n",
    "- Get to level 5\n",
    "    - Take ScreenShots of your name inside the box an put them in your ticket\n",
    "- Create a code segment with iteration that does something cool\n",
    "\n",
    "<img width=\"1439\" alt=\"Screenshot 2023-04-21 at 1 51 58 PM\" src=\"https://user-images.githubusercontent.com/111478625/234121922-65bf8e59-cf4a-42df-8a59-e445592ce038.png\">"
   ]
  },
  {
   "cell_type": "code",
   "execution_count": 2,
   "metadata": {},
   "outputs": [
    {
     "name": "stdout",
     "output_type": "stream",
     "text": [
      "    * \n",
      "   * * \n",
      "  * * * \n",
      " * * * * \n",
      "* * * * * \n"
     ]
    }
   ],
   "source": [
    "rows = 5\n",
    "\n",
    "for i in range(rows):\n",
    "    # print spaces before asterisks to create pyramid shape\n",
    "    for j in range(rows-i-1):\n",
    "        print(\" \", end=\"\")\n",
    "    # print asterisks in increasing order\n",
    "    for j in range(i+1):\n",
    "        print(\"* \", end=\"\")\n",
    "    # move to next line after printing each row\n",
    "    print()\n"
   ]
  },
  {
   "attachments": {},
   "cell_type": "markdown",
   "metadata": {},
   "source": [
    "\n",
    "\n",
    "\n",
    "\n",
    "## 2D array 0.2 (can get up to 0.23)\n",
    "- Explain how the tic tac toe game works\n",
    "Tic Tac Toe game works by defining the variable \"board\" with 3 different lists (which is a 2D array.) It then defines a funtion where it prints the board and a function that checks if there is a win or a tie. Finally, it defines the function \"play_game\" that has a while loop that contains conditionals. It takes the user's inut and calls the functions defined earlier.\n",
    "- Give 3 Examples of games that can be made from 2D arrays\n",
    "\n",
    "Minesweeper:\n",
    "Minesweeper is a popular single-player game that involves uncovering cells on a grid to find hidden mines. The game is played on a 2D array, where each cell can either be empty or contain a mine. The player's objective is to reveal all the cells that do not contain mines without detonating any mines. The player can deduce the location of mines by using the numbers on the revealed cells, which indicate the number of adjacent cells that contain mines.\n",
    "\n",
    "Battleship:\n",
    "Battleship is a two-player game that involves guessing the location of the opponent's hidden ships on a 2D grid. Each player has a grid where they place their ships, and the opposing player tries to guess the location of the ships by selecting cells on their own grid. The game is played on a 2D array, where each cell can either be empty or contain a ship. The objective of the game is to sink all the opponent's ships.\n",
    "\n",
    "Snake:\n",
    "Snake is a classic arcade game where the player controls a snake that moves around a 2D grid, eating food and growing in length. The game is played on a 2D array, where each cell can either be empty or contain food. The snake moves continuously in a particular direction, and the player must steer the snake to avoid running into walls or its own tail. The objective of the game is to eat as much food as possible without crashing the snake.\n",
    "\n",
    "## List and Dictionaries 0.2 (can get up to 0.23)\n",
    "- The difference between lists and dictionaries:\n",
    "lists use []\n",
    "dictionaries use {}\n",
    "lists have items\n",
    "dictionaries have keys and values\n",
    "lists are ordered\n",
    "dictionaries are unordered\n",
    "Lists can contain elements of any data type (dictionaries can't with keys)\n",
    "Lists can be accessed with index numbers\n",
    "Dictionaries can be accessed with keys\n",
    "\n",
    "- Make a code block that manipulates either a list or a dictionary"
   ]
  },
  {
   "cell_type": "code",
   "execution_count": 3,
   "metadata": {},
   "outputs": [
    {
     "name": "stdout",
     "output_type": "stream",
     "text": [
      "[1, 2, 4, 5, 8]\n"
     ]
    }
   ],
   "source": [
    "numbers = [5, 1, 4, 2, 8]\n",
    "sorted_numbers = sorted(numbers)\n",
    "print(sorted_numbers)\n"
   ]
  }
 ],
 "metadata": {
  "kernelspec": {
   "display_name": "base",
   "language": "python",
   "name": "python3"
  },
  "language_info": {
   "codemirror_mode": {
    "name": "ipython",
    "version": 3
   },
   "file_extension": ".py",
   "mimetype": "text/x-python",
   "name": "python",
   "nbconvert_exporter": "python",
   "pygments_lexer": "ipython3",
   "version": "3.9.12"
  },
  "orig_nbformat": 4
 },
 "nbformat": 4,
 "nbformat_minor": 2
}
